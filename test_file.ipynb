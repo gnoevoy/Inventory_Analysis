{
 "cells": [
  {
   "cell_type": "markdown",
   "metadata": {},
   "source": [
    "### **ABC analysis for 2021**\n",
    "\n",
    "**ABC Product Analysis** is a classification technique used to categorize products or items into different groups based on their importance to a business. \"A\" representing the most valuable  items while \"C\" representing the least.\n",
    "\n",
    "ABC categories are assigned to products based on their accumulated percentage of revenue:\n",
    "- less than 70% - A category\n",
    "- between 70% to 90% - B category \n",
    "- more than 90% - C category"
   ]
  },
  {
   "cell_type": "code",
   "execution_count": 1,
   "metadata": {},
   "outputs": [],
   "source": [
    "import pandas as pd\n",
    "import numpy as np\n",
    "\n",
    "import plotly.graph_objects as go\n",
    "import plotly.express as px\n",
    "import plotly.io as pio\n",
    "\n",
    "pio.templates.default = \"ggplot2\"\n",
    "### Dataset\n",
    "excel_file = r\"..\\..\\Portfolio Projects\\Inventory Management\\Datasets\\WarmeHands - data.xlsx\"\n",
    "\n",
    "stock = pd.read_excel(excel_file, sheet_name=\"Stock\")\n",
    "orders = pd.read_excel(excel_file, sheet_name=\"Orders\")\n",
    "price = pd.read_excel(excel_file, sheet_name=\"Price\")\n",
    "costs = pd.read_excel(excel_file, sheet_name=\"Costs\")\n",
    "\n",
    "categories = pd.read_csv(r\"..\\..\\Portfolio Projects\\Inventory Management\\Datasets\\categories.csv\")"
   ]
  },
  {
   "cell_type": "markdown",
   "metadata": {},
   "source": [
    "<img src=\"images/example_chart.png\" />"
   ]
  },
  {
   "cell_type": "markdown",
   "metadata": {},
   "source": [
    "![](images/example_chart.png) "
   ]
  },
  {
   "cell_type": "markdown",
   "metadata": {},
   "source": [
    "<img src=\"images/example_chart.png\" />"
   ]
  },
  {
   "cell_type": "markdown",
   "metadata": {},
   "source": []
  }
 ],
 "metadata": {
  "kernelspec": {
   "display_name": "base",
   "language": "python",
   "name": "python3"
  },
  "language_info": {
   "codemirror_mode": {
    "name": "ipython",
    "version": 3
   },
   "file_extension": ".py",
   "mimetype": "text/x-python",
   "name": "python",
   "nbconvert_exporter": "python",
   "pygments_lexer": "ipython3",
   "version": "3.11.5"
  }
 },
 "nbformat": 4,
 "nbformat_minor": 2
}
