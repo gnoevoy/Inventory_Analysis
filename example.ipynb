import pandas as pd
import numpy as np

import plotly.graph_objects as go
import plotly.express as px
import plotly.io as pio

pio.templates.default = "plotly_dark"


excel_file = r"..\..\Portfolio Projects\Inventory Management\Datasets\WarmeHands - data.xlsx"

stock = pd.read_excel(excel_file, sheet_name="Stock")
orders = pd.read_excel(excel_file, sheet_name="Orders")
price = pd.read_excel(excel_file, sheet_name="Price")
costs = pd.read_excel(excel_file, sheet_name="Costs")

categories = pd.read_csv(r"..\..\Portfolio Projects\Inventory Management\Datasets\categories.csv")

# stock table

stock["SKU-ID"] = stock["SKU-ID"].astype(str).str.replace(" ", "")
stock["Description"] = stock["Description"].str.title().str.strip()
