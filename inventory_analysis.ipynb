{
 "cells": [
  {
   "cell_type": "markdown",
   "metadata": {},
   "source": [
    "# **Inventory Management Analysis Overview**\n",
    "\n",
    "This analysis delivers key insights for inventory management, enhanced with graphs and visuals for clarity.\n",
    "The document is structured for ease of reading, however analysis was conducted in a dynamic, non-linear method.\n",
    "\n",
    "#### **Document Structure:**\n",
    "1. **Data Preparation:** Loading libraries, datasets, and initial data cleaning for analysis groundwork.\n",
    "2. **Preliminary Results:** Creating essential tables and calculations.\n",
    "3. **Report Preparation:** Preparing data for Power BI, focusing on actionable insights\n",
    "\n",
    "<br>\n",
    "<br>"
   ]
  },
  {
   "cell_type": "markdown",
   "metadata": {},
   "source": [
    "## **Data Preparation**"
   ]
  },
  {
   "cell_type": "markdown",
   "metadata": {},
   "source": [
    "### **Libraries**"
   ]
  },
  {
   "cell_type": "code",
   "execution_count": 271,
   "metadata": {},
   "outputs": [],
   "source": [
    "import pandas as pd\n",
    "import numpy as np\n",
    "\n",
    "import seaborn as sns\n",
    "import matplotlib.pyplot as plt\n",
    "\n",
    "sns.set(style=\"darkgrid\", palette=\"colorblind\")"
   ]
  },
  {
   "cell_type": "markdown",
   "metadata": {},
   "source": [
    "### **Datasets**"
   ]
  },
  {
   "cell_type": "code",
   "execution_count": 79,
   "metadata": {},
   "outputs": [],
   "source": [
    "excel_file = r\"..\\..\\Portfolio Projects\\Inventory Management\\Datasets\\WarmeHands - data.xlsx\"\n",
    "\n",
    "stock = pd.read_excel(excel_file, sheet_name=\"Stock\")\n",
    "orders = pd.read_excel(excel_file, sheet_name=\"Orders\")\n",
    "price = pd.read_excel(excel_file, sheet_name=\"Price\")\n",
    "costs = pd.read_excel(excel_file, sheet_name=\"Costs\")\n",
    "\n",
    "categories = pd.read_csv(r\"..\\..\\Portfolio Projects\\Inventory Management\\Datasets\\categories.csv\")"
   ]
  },
  {
   "cell_type": "markdown",
   "metadata": {},
   "source": [
    "### **Data Cleaning**\n",
    "Set proper data types, handle with missing values, outliers, drop duplicates and adding calculated columns."
   ]
  },
  {
   "cell_type": "code",
   "execution_count": 80,
   "metadata": {},
   "outputs": [],
   "source": [
    "# stock table\n",
    "\n",
    "stock[\"SKU-ID\"] = stock[\"SKU-ID\"].astype(str).str.replace(\" \", \"\")\n",
    "stock[\"Description\"] = stock[\"Description\"].str.title().str.strip()"
   ]
  },
  {
   "cell_type": "code",
   "execution_count": 81,
   "metadata": {},
   "outputs": [],
   "source": [
    "# price table\n",
    "\n",
    "price[\"ID\"] = price[\"ID\"].astype(str).str.replace(\" \", \"\")\n",
    "price[\"Retail_Price\"] = pd.to_numeric(price[\"Retail_Price\"].astype(str).str.replace(\"$\", \"\"))"
   ]
  },
  {
   "cell_type": "code",
   "execution_count": 82,
   "metadata": {},
   "outputs": [],
   "source": [
    "# categories table\n",
    "\n",
    "categories_mapping = {\"home acce\" : \"home accessories\", \"toys\" : \"toys & edibles\"}\n",
    "categories[\"category\"] = categories[\"category\"].map(categories_mapping).fillna(categories[\"category\"]).astype(\"category\")\n",
    "categories[\"ID\"] = categories[\"ID\"].str.strip(\"SKU-\")"
   ]
  },
  {
   "cell_type": "code",
   "execution_count": 83,
   "metadata": {},
   "outputs": [],
   "source": [
    "# orders table\n",
    "\n",
    "orders[\"SKU\"] = orders[\"SKU\"].astype(str).str.replace(\" \", \"\")\n",
    "orders[\"InvoiceDate\"] = pd.to_datetime(orders[\"InvoiceDate\"])\n",
    "orders[\"Country\"] = orders[\"Country\"].str.split(\"_\", expand=True)[1].str.strip(\".\")"
   ]
  },
  {
   "cell_type": "code",
   "execution_count": 84,
   "metadata": {},
   "outputs": [],
   "source": [
    "# costs table\n",
    "\n",
    "costs[\"SKU\"] = costs[\"SKU\"].astype(str).str.replace(\" \", \"\")\n",
    "costs[\"factory_equipment_rent\"] = pd.to_numeric(costs[\"factory_equipment_rent\"].str.replace(\"..\", \".\"))\n",
    "\n",
    "costs.drop_duplicates(inplace=True)\n",
    "costs.reset_index(drop=True, inplace=True)\n",
    "\n",
    "costs[\"COGS\"] = costs[\"raw_material\"] + costs[\"factory_labor\"] + costs[\"factory_equipment_rent\"]"
   ]
  },
  {
   "cell_type": "markdown",
   "metadata": {},
   "source": [
    "<br>\n",
    "<br>\n",
    "\n",
    "## **Preliminary Results**\n",
    "\n",
    "- **Workflow process.** For a better understanding of the workflow process, please become familiar with <a href=\"https://github.com/gnoevoy/Inventory_Management_Analysis/blob/main/README.md\" target=\"_blank\">the diagram</a>, which includes  the data transformation journey from initial preparation to the creation of reporting tables.\n",
    "\n",
    "- **Key metrics.** All the necessary formulas for calculations were included to this document. For a more in-depth understanding, please refer to the <a href=\"https://github.com/gnoevoy/Inventory_Management_Analysis/blob/main/README.md\" target=\"_blank\">README section_x file.</a>\n",
    "\n",
    "> *__Note:__ please be aware that some simple calculation were calculated in Power BI to take advantage of its interactive capabilities.*"
   ]
  },
  {
   "cell_type": "markdown",
   "metadata": {},
   "source": [
    "### **Product table**"
   ]
  },
  {
   "cell_type": "code",
   "execution_count": 85,
   "metadata": {},
   "outputs": [],
   "source": [
    "products = (\n",
    "    pd.merge(stock, price, left_on=\"SKU-ID\", right_on=\"ID\", how=\"left\")\n",
    "    .merge(costs, left_on=\"SKU-ID\", right_on=\"SKU\", how=\"left\")\n",
    "    .merge(categories, left_on=\"SKU-ID\", right_on=\"ID\", how=\"left\")\n",
    "    [[\"SKU-ID\", \"Description\", \"category\", \"2020_units_sold\", \"2021_start_stock\", \"Retail_Price\", \"COGS\"]]\n",
    ")"
   ]
  },
  {
   "cell_type": "code",
   "execution_count": 117,
   "metadata": {},
   "outputs": [
    {
     "data": {
      "text/html": [
       "<div>\n",
       "<style scoped>\n",
       "    .dataframe tbody tr th:only-of-type {\n",
       "        vertical-align: middle;\n",
       "    }\n",
       "\n",
       "    .dataframe tbody tr th {\n",
       "        vertical-align: top;\n",
       "    }\n",
       "\n",
       "    .dataframe thead th {\n",
       "        text-align: right;\n",
       "    }\n",
       "</style>\n",
       "<table border=\"1\" class=\"dataframe\">\n",
       "  <thead>\n",
       "    <tr style=\"text-align: right;\">\n",
       "      <th></th>\n",
       "      <th>SKU-ID</th>\n",
       "      <th>Description</th>\n",
       "      <th>category</th>\n",
       "      <th>2020_units_sold</th>\n",
       "      <th>2021_start_stock</th>\n",
       "      <th>Retail_Price</th>\n",
       "      <th>COGS</th>\n",
       "      <th>Revenue_2020</th>\n",
       "      <th>COGS_2020</th>\n",
       "      <th>Profit_2020</th>\n",
       "      <th>Pct_revenue_2020</th>\n",
       "    </tr>\n",
       "  </thead>\n",
       "  <tbody>\n",
       "    <tr>\n",
       "      <th>0</th>\n",
       "      <td>82486</td>\n",
       "      <td>3 Drawer Antique White Wood Cabinet</td>\n",
       "      <td>decoration</td>\n",
       "      <td>440</td>\n",
       "      <td>917</td>\n",
       "      <td>13.32</td>\n",
       "      <td>8.95</td>\n",
       "      <td>5860.80</td>\n",
       "      <td>3938.00</td>\n",
       "      <td>1922.80</td>\n",
       "      <td>0.98</td>\n",
       "    </tr>\n",
       "    <tr>\n",
       "      <th>1</th>\n",
       "      <td>23435</td>\n",
       "      <td>3 Raffia Ribbons Vintage Christmas</td>\n",
       "      <td>decoration</td>\n",
       "      <td>692</td>\n",
       "      <td>1033</td>\n",
       "      <td>1.88</td>\n",
       "      <td>0.83</td>\n",
       "      <td>1300.96</td>\n",
       "      <td>574.36</td>\n",
       "      <td>726.60</td>\n",
       "      <td>0.22</td>\n",
       "    </tr>\n",
       "    <tr>\n",
       "      <th>2</th>\n",
       "      <td>85034B</td>\n",
       "      <td>3 White Choc Morris Boxed Candles</td>\n",
       "      <td>decoration</td>\n",
       "      <td>1610</td>\n",
       "      <td>1142</td>\n",
       "      <td>2.47</td>\n",
       "      <td>1.26</td>\n",
       "      <td>3976.70</td>\n",
       "      <td>2028.60</td>\n",
       "      <td>1948.10</td>\n",
       "      <td>0.66</td>\n",
       "    </tr>\n",
       "    <tr>\n",
       "      <th>3</th>\n",
       "      <td>84559A</td>\n",
       "      <td>3D Sheet Of Dog Stickers</td>\n",
       "      <td>toys &amp; edibles</td>\n",
       "      <td>918</td>\n",
       "      <td>620</td>\n",
       "      <td>1.90</td>\n",
       "      <td>0.85</td>\n",
       "      <td>1744.20</td>\n",
       "      <td>780.30</td>\n",
       "      <td>963.90</td>\n",
       "      <td>0.29</td>\n",
       "    </tr>\n",
       "    <tr>\n",
       "      <th>4</th>\n",
       "      <td>23697</td>\n",
       "      <td>A Pretty Thank You Card</td>\n",
       "      <td>office &amp; school</td>\n",
       "      <td>557</td>\n",
       "      <td>530</td>\n",
       "      <td>1.30</td>\n",
       "      <td>0.42</td>\n",
       "      <td>724.10</td>\n",
       "      <td>233.94</td>\n",
       "      <td>490.16</td>\n",
       "      <td>0.12</td>\n",
       "    </tr>\n",
       "  </tbody>\n",
       "</table>\n",
       "</div>"
      ],
      "text/plain": [
       "   SKU-ID                          Description         category  \\\n",
       "0   82486  3 Drawer Antique White Wood Cabinet       decoration   \n",
       "1   23435   3 Raffia Ribbons Vintage Christmas       decoration   \n",
       "2  85034B    3 White Choc Morris Boxed Candles       decoration   \n",
       "3  84559A             3D Sheet Of Dog Stickers   toys & edibles   \n",
       "4   23697              A Pretty Thank You Card  office & school   \n",
       "\n",
       "   2020_units_sold  2021_start_stock  Retail_Price  COGS  Revenue_2020  \\\n",
       "0              440               917         13.32  8.95       5860.80   \n",
       "1              692              1033          1.88  0.83       1300.96   \n",
       "2             1610              1142          2.47  1.26       3976.70   \n",
       "3              918               620          1.90  0.85       1744.20   \n",
       "4              557               530          1.30  0.42        724.10   \n",
       "\n",
       "   COGS_2020  Profit_2020  Pct_revenue_2020  \n",
       "0    3938.00      1922.80              0.98  \n",
       "1     574.36       726.60              0.22  \n",
       "2    2028.60      1948.10              0.66  \n",
       "3     780.30       963.90              0.29  \n",
       "4     233.94       490.16              0.12  "
      ]
     },
     "execution_count": 117,
     "metadata": {},
     "output_type": "execute_result"
    }
   ],
   "source": [
    "# financial metrics for 2020\n",
    "\n",
    "products[\"Revenue_2020\"] = products[\"2020_units_sold\"] * products[\"Retail_Price\"]\n",
    "products[\"COGS_2020\"] = products[\"2020_units_sold\"] * products[\"COGS\"]\n",
    "products[\"Profit_2020\"] = products[\"Revenue_2020\"] - products[\"COGS_2020\"]\n",
    "products[\"Pct_revenue_2020\"] = (products[\"Revenue_2020\"] / products[\"Revenue_2020\"].sum() * 100).round(2)\n",
    "\n",
    "products.head()"
   ]
  },
  {
   "cell_type": "code",
   "execution_count": 301,
   "metadata": {},
   "outputs": [
    {
     "data": {
      "application/vnd.plotly.v1+json": {
       "config": {
        "plotlyServerURL": "https://plot.ly"
       },
       "data": [
        {
         "domain": {
          "x": [
           0,
           1
          ],
          "y": [
           0,
           1
          ]
         },
         "hole": 0.5,
         "hovertemplate": "category=%{label}<br>count=%{value}<extra></extra>",
         "labels": [
          "home accessories",
          "decoration",
          "toys & edibles",
          "office & school",
          "jewelry"
         ],
         "legendgroup": "",
         "name": "",
         "showlegend": true,
         "type": "pie",
         "values": [
          34,
          26,
          16,
          15,
          13
         ]
        }
       ],
       "layout": {
        "height": 600,
        "legend": {
         "title": {
          "text": "Categories"
         },
         "tracegroupgap": 0
        },
        "template": {
         "data": {
          "bar": [
           {
            "error_x": {
             "color": "rgb(51,51,51)"
            },
            "error_y": {
             "color": "rgb(51,51,51)"
            },
            "marker": {
             "line": {
              "color": "rgb(237,237,237)",
              "width": 0.5
             },
             "pattern": {
              "fillmode": "overlay",
              "size": 10,
              "solidity": 0.2
             }
            },
            "type": "bar"
           }
          ],
          "barpolar": [
           {
            "marker": {
             "line": {
              "color": "rgb(237,237,237)",
              "width": 0.5
             },
             "pattern": {
              "fillmode": "overlay",
              "size": 10,
              "solidity": 0.2
             }
            },
            "type": "barpolar"
           }
          ],
          "carpet": [
           {
            "aaxis": {
             "endlinecolor": "rgb(51,51,51)",
             "gridcolor": "white",
             "linecolor": "white",
             "minorgridcolor": "white",
             "startlinecolor": "rgb(51,51,51)"
            },
            "baxis": {
             "endlinecolor": "rgb(51,51,51)",
             "gridcolor": "white",
             "linecolor": "white",
             "minorgridcolor": "white",
             "startlinecolor": "rgb(51,51,51)"
            },
            "type": "carpet"
           }
          ],
          "choropleth": [
           {
            "colorbar": {
             "outlinewidth": 0,
             "tickcolor": "rgb(237,237,237)",
             "ticklen": 6,
             "ticks": "inside"
            },
            "type": "choropleth"
           }
          ],
          "contour": [
           {
            "colorbar": {
             "outlinewidth": 0,
             "tickcolor": "rgb(237,237,237)",
             "ticklen": 6,
             "ticks": "inside"
            },
            "colorscale": [
             [
              0,
              "rgb(20,44,66)"
             ],
             [
              1,
              "rgb(90,179,244)"
             ]
            ],
            "type": "contour"
           }
          ],
          "contourcarpet": [
           {
            "colorbar": {
             "outlinewidth": 0,
             "tickcolor": "rgb(237,237,237)",
             "ticklen": 6,
             "ticks": "inside"
            },
            "type": "contourcarpet"
           }
          ],
          "heatmap": [
           {
            "colorbar": {
             "outlinewidth": 0,
             "tickcolor": "rgb(237,237,237)",
             "ticklen": 6,
             "ticks": "inside"
            },
            "colorscale": [
             [
              0,
              "rgb(20,44,66)"
             ],
             [
              1,
              "rgb(90,179,244)"
             ]
            ],
            "type": "heatmap"
           }
          ],
          "heatmapgl": [
           {
            "colorbar": {
             "outlinewidth": 0,
             "tickcolor": "rgb(237,237,237)",
             "ticklen": 6,
             "ticks": "inside"
            },
            "colorscale": [
             [
              0,
              "rgb(20,44,66)"
             ],
             [
              1,
              "rgb(90,179,244)"
             ]
            ],
            "type": "heatmapgl"
           }
          ],
          "histogram": [
           {
            "marker": {
             "pattern": {
              "fillmode": "overlay",
              "size": 10,
              "solidity": 0.2
             }
            },
            "type": "histogram"
           }
          ],
          "histogram2d": [
           {
            "colorbar": {
             "outlinewidth": 0,
             "tickcolor": "rgb(237,237,237)",
             "ticklen": 6,
             "ticks": "inside"
            },
            "colorscale": [
             [
              0,
              "rgb(20,44,66)"
             ],
             [
              1,
              "rgb(90,179,244)"
             ]
            ],
            "type": "histogram2d"
           }
          ],
          "histogram2dcontour": [
           {
            "colorbar": {
             "outlinewidth": 0,
             "tickcolor": "rgb(237,237,237)",
             "ticklen": 6,
             "ticks": "inside"
            },
            "colorscale": [
             [
              0,
              "rgb(20,44,66)"
             ],
             [
              1,
              "rgb(90,179,244)"
             ]
            ],
            "type": "histogram2dcontour"
           }
          ],
          "mesh3d": [
           {
            "colorbar": {
             "outlinewidth": 0,
             "tickcolor": "rgb(237,237,237)",
             "ticklen": 6,
             "ticks": "inside"
            },
            "type": "mesh3d"
           }
          ],
          "parcoords": [
           {
            "line": {
             "colorbar": {
              "outlinewidth": 0,
              "tickcolor": "rgb(237,237,237)",
              "ticklen": 6,
              "ticks": "inside"
             }
            },
            "type": "parcoords"
           }
          ],
          "pie": [
           {
            "automargin": true,
            "type": "pie"
           }
          ],
          "scatter": [
           {
            "fillpattern": {
             "fillmode": "overlay",
             "size": 10,
             "solidity": 0.2
            },
            "type": "scatter"
           }
          ],
          "scatter3d": [
           {
            "line": {
             "colorbar": {
              "outlinewidth": 0,
              "tickcolor": "rgb(237,237,237)",
              "ticklen": 6,
              "ticks": "inside"
             }
            },
            "marker": {
             "colorbar": {
              "outlinewidth": 0,
              "tickcolor": "rgb(237,237,237)",
              "ticklen": 6,
              "ticks": "inside"
             }
            },
            "type": "scatter3d"
           }
          ],
          "scattercarpet": [
           {
            "marker": {
             "colorbar": {
              "outlinewidth": 0,
              "tickcolor": "rgb(237,237,237)",
              "ticklen": 6,
              "ticks": "inside"
             }
            },
            "type": "scattercarpet"
           }
          ],
          "scattergeo": [
           {
            "marker": {
             "colorbar": {
              "outlinewidth": 0,
              "tickcolor": "rgb(237,237,237)",
              "ticklen": 6,
              "ticks": "inside"
             }
            },
            "type": "scattergeo"
           }
          ],
          "scattergl": [
           {
            "marker": {
             "colorbar": {
              "outlinewidth": 0,
              "tickcolor": "rgb(237,237,237)",
              "ticklen": 6,
              "ticks": "inside"
             }
            },
            "type": "scattergl"
           }
          ],
          "scattermapbox": [
           {
            "marker": {
             "colorbar": {
              "outlinewidth": 0,
              "tickcolor": "rgb(237,237,237)",
              "ticklen": 6,
              "ticks": "inside"
             }
            },
            "type": "scattermapbox"
           }
          ],
          "scatterpolar": [
           {
            "marker": {
             "colorbar": {
              "outlinewidth": 0,
              "tickcolor": "rgb(237,237,237)",
              "ticklen": 6,
              "ticks": "inside"
             }
            },
            "type": "scatterpolar"
           }
          ],
          "scatterpolargl": [
           {
            "marker": {
             "colorbar": {
              "outlinewidth": 0,
              "tickcolor": "rgb(237,237,237)",
              "ticklen": 6,
              "ticks": "inside"
             }
            },
            "type": "scatterpolargl"
           }
          ],
          "scatterternary": [
           {
            "marker": {
             "colorbar": {
              "outlinewidth": 0,
              "tickcolor": "rgb(237,237,237)",
              "ticklen": 6,
              "ticks": "inside"
             }
            },
            "type": "scatterternary"
           }
          ],
          "surface": [
           {
            "colorbar": {
             "outlinewidth": 0,
             "tickcolor": "rgb(237,237,237)",
             "ticklen": 6,
             "ticks": "inside"
            },
            "colorscale": [
             [
              0,
              "rgb(20,44,66)"
             ],
             [
              1,
              "rgb(90,179,244)"
             ]
            ],
            "type": "surface"
           }
          ],
          "table": [
           {
            "cells": {
             "fill": {
              "color": "rgb(237,237,237)"
             },
             "line": {
              "color": "white"
             }
            },
            "header": {
             "fill": {
              "color": "rgb(217,217,217)"
             },
             "line": {
              "color": "white"
             }
            },
            "type": "table"
           }
          ]
         },
         "layout": {
          "annotationdefaults": {
           "arrowhead": 0,
           "arrowwidth": 1
          },
          "autotypenumbers": "strict",
          "coloraxis": {
           "colorbar": {
            "outlinewidth": 0,
            "tickcolor": "rgb(237,237,237)",
            "ticklen": 6,
            "ticks": "inside"
           }
          },
          "colorscale": {
           "sequential": [
            [
             0,
             "rgb(20,44,66)"
            ],
            [
             1,
             "rgb(90,179,244)"
            ]
           ],
           "sequentialminus": [
            [
             0,
             "rgb(20,44,66)"
            ],
            [
             1,
             "rgb(90,179,244)"
            ]
           ]
          },
          "colorway": [
           "#F8766D",
           "#A3A500",
           "#00BF7D",
           "#00B0F6",
           "#E76BF3"
          ],
          "font": {
           "color": "rgb(51,51,51)"
          },
          "geo": {
           "bgcolor": "white",
           "lakecolor": "white",
           "landcolor": "rgb(237,237,237)",
           "showlakes": true,
           "showland": true,
           "subunitcolor": "white"
          },
          "hoverlabel": {
           "align": "left"
          },
          "hovermode": "closest",
          "paper_bgcolor": "white",
          "plot_bgcolor": "rgb(237,237,237)",
          "polar": {
           "angularaxis": {
            "gridcolor": "white",
            "linecolor": "white",
            "showgrid": true,
            "tickcolor": "rgb(51,51,51)",
            "ticks": "outside"
           },
           "bgcolor": "rgb(237,237,237)",
           "radialaxis": {
            "gridcolor": "white",
            "linecolor": "white",
            "showgrid": true,
            "tickcolor": "rgb(51,51,51)",
            "ticks": "outside"
           }
          },
          "scene": {
           "xaxis": {
            "backgroundcolor": "rgb(237,237,237)",
            "gridcolor": "white",
            "gridwidth": 2,
            "linecolor": "white",
            "showbackground": true,
            "showgrid": true,
            "tickcolor": "rgb(51,51,51)",
            "ticks": "outside",
            "zerolinecolor": "white"
           },
           "yaxis": {
            "backgroundcolor": "rgb(237,237,237)",
            "gridcolor": "white",
            "gridwidth": 2,
            "linecolor": "white",
            "showbackground": true,
            "showgrid": true,
            "tickcolor": "rgb(51,51,51)",
            "ticks": "outside",
            "zerolinecolor": "white"
           },
           "zaxis": {
            "backgroundcolor": "rgb(237,237,237)",
            "gridcolor": "white",
            "gridwidth": 2,
            "linecolor": "white",
            "showbackground": true,
            "showgrid": true,
            "tickcolor": "rgb(51,51,51)",
            "ticks": "outside",
            "zerolinecolor": "white"
           }
          },
          "shapedefaults": {
           "fillcolor": "black",
           "line": {
            "width": 0
           },
           "opacity": 0.3
          },
          "ternary": {
           "aaxis": {
            "gridcolor": "white",
            "linecolor": "white",
            "showgrid": true,
            "tickcolor": "rgb(51,51,51)",
            "ticks": "outside"
           },
           "baxis": {
            "gridcolor": "white",
            "linecolor": "white",
            "showgrid": true,
            "tickcolor": "rgb(51,51,51)",
            "ticks": "outside"
           },
           "bgcolor": "rgb(237,237,237)",
           "caxis": {
            "gridcolor": "white",
            "linecolor": "white",
            "showgrid": true,
            "tickcolor": "rgb(51,51,51)",
            "ticks": "outside"
           }
          },
          "xaxis": {
           "automargin": true,
           "gridcolor": "white",
           "linecolor": "white",
           "showgrid": true,
           "tickcolor": "rgb(51,51,51)",
           "ticks": "outside",
           "title": {
            "standoff": 15
           },
           "zerolinecolor": "white"
          },
          "yaxis": {
           "automargin": true,
           "gridcolor": "white",
           "linecolor": "white",
           "showgrid": true,
           "tickcolor": "rgb(51,51,51)",
           "ticks": "outside",
           "title": {
            "standoff": 15
           },
           "zerolinecolor": "white"
          }
         }
        },
        "title": {
         "text": "Products Distribution by Category"
        },
        "width": 800
       }
      }
     },
     "metadata": {},
     "output_type": "display_data"
    }
   ],
   "source": [
    "# Products Distribution by Category pie chart\n",
    "\n",
    "fig = px.pie(\n",
    "    products[\"category\"].value_counts().reset_index(),\n",
    "    names=\"category\",\n",
    "    values=\"count\",\n",
    "    title=\"Products Distribution by Category\",\n",
    "    hole=.5,\n",
    "    width=800, height=600\n",
    ")\n",
    "\n",
    "fig.update_layout(legend_title_text=\"Categories\")\n",
    "fig.show()"
   ]
  },
  {
   "cell_type": "markdown",
   "metadata": {},
   "source": [
    "![image](newplot.png)"
   ]
  },
  {
   "cell_type": "code",
   "execution_count": 300,
   "metadata": {},
   "outputs": [
    {
     "data": {
      "image/png": "[encoded data removed]",
      "text/plain": [
       "<Figure size 1000x500 with 1 Axes>"
      ]
     },
     "metadata": {},
     "output_type": "display_data"
    }
   ],
   "source": [
    "category_counts = products[\"category\"].value_counts().reset_index()\n",
    "\n",
    "plt.figure(figsize=(10, 5))\n",
    "plt.pie(category_counts[\"count\"], labels=category_counts[\"category\"], autopct=\"%1.1f%%\")\n",
    "plt.title(\"Products Distribution by Category\")\n",
    "plt.legend(title=\"Categories\")\n",
    "plt.show()"
   ]
  },
  {
   "cell_type": "code",
   "execution_count": 286,
   "metadata": {},
   "outputs": [
    {
     "data": {
      "text/html": [
       "<div>\n",
       "<style scoped>\n",
       "    .dataframe tbody tr th:only-of-type {\n",
       "        vertical-align: middle;\n",
       "    }\n",
       "\n",
       "    .dataframe tbody tr th {\n",
       "        vertical-align: top;\n",
       "    }\n",
       "\n",
       "    .dataframe thead th {\n",
       "        text-align: right;\n",
       "    }\n",
       "</style>\n",
       "<table border=\"1\" class=\"dataframe\">\n",
       "  <thead>\n",
       "    <tr style=\"text-align: right;\">\n",
       "      <th></th>\n",
       "      <th>category</th>\n",
       "      <th>count</th>\n",
       "    </tr>\n",
       "  </thead>\n",
       "  <tbody>\n",
       "    <tr>\n",
       "      <th>0</th>\n",
       "      <td>home accessories</td>\n",
       "      <td>34</td>\n",
       "    </tr>\n",
       "    <tr>\n",
       "      <th>1</th>\n",
       "      <td>decoration</td>\n",
       "      <td>26</td>\n",
       "    </tr>\n",
       "    <tr>\n",
       "      <th>2</th>\n",
       "      <td>toys &amp; edibles</td>\n",
       "      <td>16</td>\n",
       "    </tr>\n",
       "    <tr>\n",
       "      <th>3</th>\n",
       "      <td>office &amp; school</td>\n",
       "      <td>15</td>\n",
       "    </tr>\n",
       "    <tr>\n",
       "      <th>4</th>\n",
       "      <td>jewelry</td>\n",
       "      <td>13</td>\n",
       "    </tr>\n",
       "  </tbody>\n",
       "</table>\n",
       "</div>"
      ],
      "text/plain": [
       "           category  count\n",
       "0  home accessories     34\n",
       "1        decoration     26\n",
       "2    toys & edibles     16\n",
       "3   office & school     15\n",
       "4           jewelry     13"
      ]
     },
     "execution_count": 286,
     "metadata": {},
     "output_type": "execute_result"
    }
   ],
   "source": [
    "products[\"category\"].value_counts().reset_index()"
   ]
  },
  {
   "cell_type": "code",
   "execution_count": null,
   "metadata": {},
   "outputs": [],
   "source": []
  },
  {
   "cell_type": "markdown",
   "metadata": {},
   "source": [
    "### **2021 Annual Sales**"
   ]
  },
  {
   "cell_type": "code",
   "execution_count": 162,
   "metadata": {},
   "outputs": [
    {
     "data": {
      "text/html": [
       "<div>\n",
       "<style scoped>\n",
       "    .dataframe tbody tr th:only-of-type {\n",
       "        vertical-align: middle;\n",
       "    }\n",
       "\n",
       "    .dataframe tbody tr th {\n",
       "        vertical-align: top;\n",
       "    }\n",
       "\n",
       "    .dataframe thead th {\n",
       "        text-align: right;\n",
       "    }\n",
       "</style>\n",
       "<table border=\"1\" class=\"dataframe\">\n",
       "  <thead>\n",
       "    <tr style=\"text-align: right;\">\n",
       "      <th></th>\n",
       "      <th>SKU</th>\n",
       "      <th>2021_units_sold</th>\n",
       "    </tr>\n",
       "  </thead>\n",
       "  <tbody>\n",
       "    <tr>\n",
       "      <th>0</th>\n",
       "      <td>10125</td>\n",
       "      <td>1149</td>\n",
       "    </tr>\n",
       "    <tr>\n",
       "      <th>1</th>\n",
       "      <td>15030</td>\n",
       "      <td>143</td>\n",
       "    </tr>\n",
       "    <tr>\n",
       "      <th>2</th>\n",
       "      <td>16054</td>\n",
       "      <td>1164</td>\n",
       "    </tr>\n",
       "    <tr>\n",
       "      <th>3</th>\n",
       "      <td>17014A</td>\n",
       "      <td>130</td>\n",
       "    </tr>\n",
       "    <tr>\n",
       "      <th>4</th>\n",
       "      <td>17038</td>\n",
       "      <td>1423</td>\n",
       "    </tr>\n",
       "  </tbody>\n",
       "</table>\n",
       "</div>"
      ],
      "text/plain": [
       "      SKU  2021_units_sold\n",
       "0   10125             1149\n",
       "1   15030              143\n",
       "2   16054             1164\n",
       "3  17014A              130\n",
       "4   17038             1423"
      ]
     },
     "execution_count": 162,
     "metadata": {},
     "output_type": "execute_result"
    }
   ],
   "source": [
    "sales = (\n",
    "    orders[orders[\"InvoiceDate\"].dt.year == 2021]\n",
    "    .groupby(\"SKU\")[\"Quantity\"].sum()\n",
    "    .to_frame(\"2021_units_sold\").reset_index()\n",
    ")\n",
    "\n",
    "sales.head()"
   ]
  },
  {
   "cell_type": "code",
   "execution_count": 230,
   "metadata": {},
   "outputs": [
    {
     "data": {
      "application/vnd.plotly.v1+json": {
       "config": {
        "plotlyServerURL": "https://plot.ly"
       },
       "data": [
        {
         "alignmentgroup": "True",
         "hovertemplate": "2021_units_sold=%{marker.color}<br>SKU=%{y}<extra></extra>",
         "legendgroup": "",
         "marker": {
          "color": [
           3056,
           3161,
           3164,
           3343,
           3906,
           4672,
           8990,
           10415,
           12639,
           13651
          ],
          "coloraxis": "coloraxis",
          "pattern": {
           "shape": ""
          }
         },
         "name": "",
         "offsetgroup": "",
         "orientation": "h",
         "showlegend": false,
         "textposition": "auto",
         "texttemplate": "%{x}",
         "type": "bar",
         "x": [
          3056,
          3161,
          3164,
          3343,
          3906,
          4672,
          8990,
          10415,
          12639,
          13651
         ],
         "xaxis": "x",
         "y": [
          "21098",
          "20996",
          "23175",
          "22663",
          "22633",
          "21672",
          "21232",
          "23077",
          "20719",
          "22693"
         ],
         "yaxis": "y"
        }
       ],
       "layout": {
        "barmode": "relative",
        "coloraxis": {
         "colorbar": {
          "title": {
           "text": "2021_units_sold"
          }
         },
         "colorscale": [
          [
           0,
           "rgb(20,44,66)"
          ],
          [
           1,
           "rgb(90,179,244)"
          ]
         ]
        },
        "height": 600,
        "legend": {
         "tracegroupgap": 0
        },
        "template": {
         "data": {
          "bar": [
           {
            "error_x": {
             "color": "rgb(51,51,51)"
            },
            "error_y": {
             "color": "rgb(51,51,51)"
            },
            "marker": {
             "line": {
              "color": "rgb(237,237,237)",
              "width": 0.5
             },
             "pattern": {
              "fillmode": "overlay",
              "size": 10,
              "solidity": 0.2
             }
            },
            "type": "bar"
           }
          ],
          "barpolar": [
           {
            "marker": {
             "line": {
              "color": "rgb(237,237,237)",
              "width": 0.5
             },
             "pattern": {
              "fillmode": "overlay",
              "size": 10,
              "solidity": 0.2
             }
            },
            "type": "barpolar"
           }
          ],
          "carpet": [
           {
            "aaxis": {
             "endlinecolor": "rgb(51,51,51)",
             "gridcolor": "white",
             "linecolor": "white",
             "minorgridcolor": "white",
             "startlinecolor": "rgb(51,51,51)"
            },
            "baxis": {
             "endlinecolor": "rgb(51,51,51)",
             "gridcolor": "white",
             "linecolor": "white",
             "minorgridcolor": "white",
             "startlinecolor": "rgb(51,51,51)"
            },
            "type": "carpet"
           }
          ],
          "choropleth": [
           {
            "colorbar": {
             "outlinewidth": 0,
             "tickcolor": "rgb(237,237,237)",
             "ticklen": 6,
             "ticks": "inside"
            },
            "type": "choropleth"
           }
          ],
          "contour": [
           {
            "colorbar": {
             "outlinewidth": 0,
             "tickcolor": "rgb(237,237,237)",
             "ticklen": 6,
             "ticks": "inside"
            },
            "colorscale": [
             [
              0,
              "rgb(20,44,66)"
             ],
             [
              1,
              "rgb(90,179,244)"
             ]
            ],
            "type": "contour"
           }
          ],
          "contourcarpet": [
           {
            "colorbar": {
             "outlinewidth": 0,
             "tickcolor": "rgb(237,237,237)",
             "ticklen": 6,
             "ticks": "inside"
            },
            "type": "contourcarpet"
           }
          ],
          "heatmap": [
           {
            "colorbar": {
             "outlinewidth": 0,
             "tickcolor": "rgb(237,237,237)",
             "ticklen": 6,
             "ticks": "inside"
            },
            "colorscale": [
             [
              0,
              "rgb(20,44,66)"
             ],
             [
              1,
              "rgb(90,179,244)"
             ]
            ],
            "type": "heatmap"
           }
          ],
          "heatmapgl": [
           {
            "colorbar": {
             "outlinewidth": 0,
             "tickcolor": "rgb(237,237,237)",
             "ticklen": 6,
             "ticks": "inside"
            },
            "colorscale": [
             [
              0,
              "rgb(20,44,66)"
             ],
             [
              1,
              "rgb(90,179,244)"
             ]
            ],
            "type": "heatmapgl"
           }
          ],
          "histogram": [
           {
            "marker": {
             "pattern": {
              "fillmode": "overlay",
              "size": 10,
              "solidity": 0.2
             }
            },
            "type": "histogram"
           }
          ],
          "histogram2d": [
           {
            "colorbar": {
             "outlinewidth": 0,
             "tickcolor": "rgb(237,237,237)",
             "ticklen": 6,
             "ticks": "inside"
            },
            "colorscale": [
             [
              0,
              "rgb(20,44,66)"
             ],
             [
              1,
              "rgb(90,179,244)"
             ]
            ],
            "type": "histogram2d"
           }
          ],
          "histogram2dcontour": [
           {
            "colorbar": {
             "outlinewidth": 0,
             "tickcolor": "rgb(237,237,237)",
             "ticklen": 6,
             "ticks": "inside"
            },
            "colorscale": [
             [
              0,
              "rgb(20,44,66)"
             ],
             [
              1,
              "rgb(90,179,244)"
             ]
            ],
            "type": "histogram2dcontour"
           }
          ],
          "mesh3d": [
           {
            "colorbar": {
             "outlinewidth": 0,
             "tickcolor": "rgb(237,237,237)",
             "ticklen": 6,
             "ticks": "inside"
            },
            "type": "mesh3d"
           }
          ],
          "parcoords": [
           {
            "line": {
             "colorbar": {
              "outlinewidth": 0,
              "tickcolor": "rgb(237,237,237)",
              "ticklen": 6,
              "ticks": "inside"
             }
            },
            "type": "parcoords"
           }
          ],
          "pie": [
           {
            "automargin": true,
            "type": "pie"
           }
          ],
          "scatter": [
           {
            "fillpattern": {
             "fillmode": "overlay",
             "size": 10,
             "solidity": 0.2
            },
            "type": "scatter"
           }
          ],
          "scatter3d": [
           {
            "line": {
             "colorbar": {
              "outlinewidth": 0,
              "tickcolor": "rgb(237,237,237)",
              "ticklen": 6,
              "ticks": "inside"
             }
            },
            "marker": {
             "colorbar": {
              "outlinewidth": 0,
              "tickcolor": "rgb(237,237,237)",
              "ticklen": 6,
              "ticks": "inside"
             }
            },
            "type": "scatter3d"
           }
          ],
          "scattercarpet": [
           {
            "marker": {
             "colorbar": {
              "outlinewidth": 0,
              "tickcolor": "rgb(237,237,237)",
              "ticklen": 6,
              "ticks": "inside"
             }
            },
            "type": "scattercarpet"
           }
          ],
          "scattergeo": [
           {
            "marker": {
             "colorbar": {
              "outlinewidth": 0,
              "tickcolor": "rgb(237,237,237)",
              "ticklen": 6,
              "ticks": "inside"
             }
            },
            "type": "scattergeo"
           }
          ],
          "scattergl": [
           {
            "marker": {
             "colorbar": {
              "outlinewidth": 0,
              "tickcolor": "rgb(237,237,237)",
              "ticklen": 6,
              "ticks": "inside"
             }
            },
            "type": "scattergl"
           }
          ],
          "scattermapbox": [
           {
            "marker": {
             "colorbar": {
              "outlinewidth": 0,
              "tickcolor": "rgb(237,237,237)",
              "ticklen": 6,
              "ticks": "inside"
             }
            },
            "type": "scattermapbox"
           }
          ],
          "scatterpolar": [
           {
            "marker": {
             "colorbar": {
              "outlinewidth": 0,
              "tickcolor": "rgb(237,237,237)",
              "ticklen": 6,
              "ticks": "inside"
             }
            },
            "type": "scatterpolar"
           }
          ],
          "scatterpolargl": [
           {
            "marker": {
             "colorbar": {
              "outlinewidth": 0,
              "tickcolor": "rgb(237,237,237)",
              "ticklen": 6,
              "ticks": "inside"
             }
            },
            "type": "scatterpolargl"
           }
          ],
          "scatterternary": [
           {
            "marker": {
             "colorbar": {
              "outlinewidth": 0,
              "tickcolor": "rgb(237,237,237)",
              "ticklen": 6,
              "ticks": "inside"
             }
            },
            "type": "scatterternary"
           }
          ],
          "surface": [
           {
            "colorbar": {
             "outlinewidth": 0,
             "tickcolor": "rgb(237,237,237)",
             "ticklen": 6,
             "ticks": "inside"
            },
            "colorscale": [
             [
              0,
              "rgb(20,44,66)"
             ],
             [
              1,
              "rgb(90,179,244)"
             ]
            ],
            "type": "surface"
           }
          ],
          "table": [
           {
            "cells": {
             "fill": {
              "color": "rgb(237,237,237)"
             },
             "line": {
              "color": "white"
             }
            },
            "header": {
             "fill": {
              "color": "rgb(217,217,217)"
             },
             "line": {
              "color": "white"
             }
            },
            "type": "table"
           }
          ]
         },
         "layout": {
          "annotationdefaults": {
           "arrowhead": 0,
           "arrowwidth": 1
          },
          "autotypenumbers": "strict",
          "coloraxis": {
           "colorbar": {
            "outlinewidth": 0,
            "tickcolor": "rgb(237,237,237)",
            "ticklen": 6,
            "ticks": "inside"
           }
          },
          "colorscale": {
           "sequential": [
            [
             0,
             "rgb(20,44,66)"
            ],
            [
             1,
             "rgb(90,179,244)"
            ]
           ],
           "sequentialminus": [
            [
             0,
             "rgb(20,44,66)"
            ],
            [
             1,
             "rgb(90,179,244)"
            ]
           ]
          },
          "colorway": [
           "#F8766D",
           "#A3A500",
           "#00BF7D",
           "#00B0F6",
           "#E76BF3"
          ],
          "font": {
           "color": "rgb(51,51,51)"
          },
          "geo": {
           "bgcolor": "white",
           "lakecolor": "white",
           "landcolor": "rgb(237,237,237)",
           "showlakes": true,
           "showland": true,
           "subunitcolor": "white"
          },
          "hoverlabel": {
           "align": "left"
          },
          "hovermode": "closest",
          "paper_bgcolor": "white",
          "plot_bgcolor": "rgb(237,237,237)",
          "polar": {
           "angularaxis": {
            "gridcolor": "white",
            "linecolor": "white",
            "showgrid": true,
            "tickcolor": "rgb(51,51,51)",
            "ticks": "outside"
           },
           "bgcolor": "rgb(237,237,237)",
           "radialaxis": {
            "gridcolor": "white",
            "linecolor": "white",
            "showgrid": true,
            "tickcolor": "rgb(51,51,51)",
            "ticks": "outside"
           }
          },
          "scene": {
           "xaxis": {
            "backgroundcolor": "rgb(237,237,237)",
            "gridcolor": "white",
            "gridwidth": 2,
            "linecolor": "white",
            "showbackground": true,
            "showgrid": true,
            "tickcolor": "rgb(51,51,51)",
            "ticks": "outside",
            "zerolinecolor": "white"
           },
           "yaxis": {
            "backgroundcolor": "rgb(237,237,237)",
            "gridcolor": "white",
            "gridwidth": 2,
            "linecolor": "white",
            "showbackground": true,
            "showgrid": true,
            "tickcolor": "rgb(51,51,51)",
            "ticks": "outside",
            "zerolinecolor": "white"
           },
           "zaxis": {
            "backgroundcolor": "rgb(237,237,237)",
            "gridcolor": "white",
            "gridwidth": 2,
            "linecolor": "white",
            "showbackground": true,
            "showgrid": true,
            "tickcolor": "rgb(51,51,51)",
            "ticks": "outside",
            "zerolinecolor": "white"
           }
          },
          "shapedefaults": {
           "fillcolor": "black",
           "line": {
            "width": 0
           },
           "opacity": 0.3
          },
          "ternary": {
           "aaxis": {
            "gridcolor": "white",
            "linecolor": "white",
            "showgrid": true,
            "tickcolor": "rgb(51,51,51)",
            "ticks": "outside"
           },
           "baxis": {
            "gridcolor": "white",
            "linecolor": "white",
            "showgrid": true,
            "tickcolor": "rgb(51,51,51)",
            "ticks": "outside"
           },
           "bgcolor": "rgb(237,237,237)",
           "caxis": {
            "gridcolor": "white",
            "linecolor": "white",
            "showgrid": true,
            "tickcolor": "rgb(51,51,51)",
            "ticks": "outside"
           }
          },
          "xaxis": {
           "automargin": true,
           "gridcolor": "white",
           "linecolor": "white",
           "showgrid": true,
           "tickcolor": "rgb(51,51,51)",
           "ticks": "outside",
           "title": {
            "standoff": 15
           },
           "zerolinecolor": "white"
          },
          "yaxis": {
           "automargin": true,
           "gridcolor": "white",
           "linecolor": "white",
           "showgrid": true,
           "tickcolor": "rgb(51,51,51)",
           "ticks": "outside",
           "title": {
            "standoff": 15
           },
           "zerolinecolor": "white"
          }
         }
        },
        "title": {
         "text": "Top Selling Items in 2021"
        },
        "width": 800,
        "xaxis": {
         "anchor": "y",
         "domain": [
          0,
          1
         ],
         "title": {
          "text": "Units Sold"
         }
        },
        "yaxis": {
         "anchor": "x",
         "domain": [
          0,
          1
         ],
         "title": {}
        }
       }
      }
     },
     "metadata": {},
     "output_type": "display_data"
    }
   ],
   "source": [
    "# Top Selling Items in 2021 bar chart\n",
    "\n",
    "top_items = sales.sort_values(\"2021_units_sold\", ascending=False).head(10)\n",
    "\n",
    "fig = px.bar(\n",
    "    top_items.sort_values(\"2021_units_sold\"),\n",
    "    x=\"2021_units_sold\",\n",
    "    y=\"SKU\",\n",
    "    title=\"Top Selling Items in 2021\",\n",
    "    color=\"2021_units_sold\",\n",
    "    text_auto=True,\n",
    "    width=800, height=600\n",
    ")\n",
    "\n",
    "fig.update_layout(yaxis_title=None)\n",
    "fig.update_layout(xaxis_title=\"Units Sold\")\n",
    "fig.show()"
   ]
  },
  {
   "cell_type": "markdown",
   "metadata": {},
   "source": [
    "### **Product sales for 2020 and 2021**"
   ]
  },
  {
   "cell_type": "code",
   "execution_count": 123,
   "metadata": {},
   "outputs": [],
   "source": [
    "products_sales = pd.merge(products, sales, left_on=\"SKU-ID\", right_on=\"SKU\", how=\"left\").drop(columns=\"SKU\")\n",
    "\n",
    "# financial metrics for 2021\n",
    "products_sales[\"Revenue_2021\"] = products_sales[\"2021_units_sold\"] * products_sales[\"Retail_Price\"]\n",
    "products_sales[\"Pct_revenue_2021\"] = (products_sales[\"Revenue_2021\"] / products_sales[\"Revenue_2021\"].sum() * 100).round(2)"
   ]
  },
  {
   "cell_type": "markdown",
   "metadata": {},
   "source": [
    "#### **Inventory turnover rate for 2021**\n",
    "\n",
    "**Turnover Rate** is a measure of how fast a company sells and replaces its inventory within a given period. A higher rate indicates more efficient inventory management.\n",
    "\n",
    "$Inventory\\ Turnover = \\frac{ Units\\ Sold}{Average\\ Inventory\\ Value}$\n",
    "\n",
    "<br>\n",
    "\n",
    "**Average Inventory Value** represents the average value of inventory held during the specific time period.\n",
    "\n",
    "$Average\\ Inventory = \\frac{Start\\ Stock + End\\ Stock}{2}$"
   ]
  },
  {
   "cell_type": "code",
   "execution_count": 125,
   "metadata": {},
   "outputs": [
    {
     "data": {
      "text/html": [
       "<div>\n",
       "<style scoped>\n",
       "    .dataframe tbody tr th:only-of-type {\n",
       "        vertical-align: middle;\n",
       "    }\n",
       "\n",
       "    .dataframe tbody tr th {\n",
       "        vertical-align: top;\n",
       "    }\n",
       "\n",
       "    .dataframe thead th {\n",
       "        text-align: right;\n",
       "    }\n",
       "</style>\n",
       "<table border=\"1\" class=\"dataframe\">\n",
       "  <thead>\n",
       "    <tr style=\"text-align: right;\">\n",
       "      <th></th>\n",
       "      <th>SKU-ID</th>\n",
       "      <th>Description</th>\n",
       "      <th>category</th>\n",
       "      <th>2020_units_sold</th>\n",
       "      <th>2021_start_stock</th>\n",
       "      <th>Retail_Price</th>\n",
       "      <th>COGS</th>\n",
       "      <th>Revenue_2020</th>\n",
       "      <th>COGS_2020</th>\n",
       "      <th>Profit_2020</th>\n",
       "      <th>Pct_revenue_2020</th>\n",
       "      <th>2021_units_sold</th>\n",
       "      <th>Revenue_2021</th>\n",
       "      <th>Pct_revenue_2021</th>\n",
       "      <th>2021_end_stock</th>\n",
       "      <th>Avg_inventory</th>\n",
       "      <th>Inventory_turnover</th>\n",
       "    </tr>\n",
       "  </thead>\n",
       "  <tbody>\n",
       "    <tr>\n",
       "      <th>0</th>\n",
       "      <td>82486</td>\n",
       "      <td>3 Drawer Antique White Wood Cabinet</td>\n",
       "      <td>decoration</td>\n",
       "      <td>440</td>\n",
       "      <td>917</td>\n",
       "      <td>13.32</td>\n",
       "      <td>8.95</td>\n",
       "      <td>5860.80</td>\n",
       "      <td>3938.00</td>\n",
       "      <td>1922.80</td>\n",
       "      <td>0.98</td>\n",
       "      <td>742.0</td>\n",
       "      <td>9883.44</td>\n",
       "      <td>2.22</td>\n",
       "      <td>175.0</td>\n",
       "      <td>4886.70</td>\n",
       "      <td>1.36</td>\n",
       "    </tr>\n",
       "    <tr>\n",
       "      <th>1</th>\n",
       "      <td>23435</td>\n",
       "      <td>3 Raffia Ribbons Vintage Christmas</td>\n",
       "      <td>decoration</td>\n",
       "      <td>692</td>\n",
       "      <td>1033</td>\n",
       "      <td>1.88</td>\n",
       "      <td>0.83</td>\n",
       "      <td>1300.96</td>\n",
       "      <td>574.36</td>\n",
       "      <td>726.60</td>\n",
       "      <td>0.22</td>\n",
       "      <td>827.0</td>\n",
       "      <td>1554.76</td>\n",
       "      <td>0.35</td>\n",
       "      <td>206.0</td>\n",
       "      <td>514.19</td>\n",
       "      <td>1.33</td>\n",
       "    </tr>\n",
       "    <tr>\n",
       "      <th>2</th>\n",
       "      <td>85034B</td>\n",
       "      <td>3 White Choc Morris Boxed Candles</td>\n",
       "      <td>decoration</td>\n",
       "      <td>1610</td>\n",
       "      <td>1142</td>\n",
       "      <td>2.47</td>\n",
       "      <td>1.26</td>\n",
       "      <td>3976.70</td>\n",
       "      <td>2028.60</td>\n",
       "      <td>1948.10</td>\n",
       "      <td>0.66</td>\n",
       "      <td>888.0</td>\n",
       "      <td>2193.36</td>\n",
       "      <td>0.49</td>\n",
       "      <td>254.0</td>\n",
       "      <td>879.48</td>\n",
       "      <td>1.27</td>\n",
       "    </tr>\n",
       "    <tr>\n",
       "      <th>3</th>\n",
       "      <td>84559A</td>\n",
       "      <td>3D Sheet Of Dog Stickers</td>\n",
       "      <td>toys &amp; edibles</td>\n",
       "      <td>918</td>\n",
       "      <td>620</td>\n",
       "      <td>1.90</td>\n",
       "      <td>0.85</td>\n",
       "      <td>1744.20</td>\n",
       "      <td>780.30</td>\n",
       "      <td>963.90</td>\n",
       "      <td>0.29</td>\n",
       "      <td>357.0</td>\n",
       "      <td>678.30</td>\n",
       "      <td>0.15</td>\n",
       "      <td>263.0</td>\n",
       "      <td>375.28</td>\n",
       "      <td>0.81</td>\n",
       "    </tr>\n",
       "    <tr>\n",
       "      <th>4</th>\n",
       "      <td>23697</td>\n",
       "      <td>A Pretty Thank You Card</td>\n",
       "      <td>office &amp; school</td>\n",
       "      <td>557</td>\n",
       "      <td>530</td>\n",
       "      <td>1.30</td>\n",
       "      <td>0.42</td>\n",
       "      <td>724.10</td>\n",
       "      <td>233.94</td>\n",
       "      <td>490.16</td>\n",
       "      <td>0.12</td>\n",
       "      <td>456.0</td>\n",
       "      <td>592.80</td>\n",
       "      <td>0.13</td>\n",
       "      <td>74.0</td>\n",
       "      <td>126.84</td>\n",
       "      <td>1.51</td>\n",
       "    </tr>\n",
       "  </tbody>\n",
       "</table>\n",
       "</div>"
      ],
      "text/plain": [
       "   SKU-ID                          Description         category  \\\n",
       "0   82486  3 Drawer Antique White Wood Cabinet       decoration   \n",
       "1   23435   3 Raffia Ribbons Vintage Christmas       decoration   \n",
       "2  85034B    3 White Choc Morris Boxed Candles       decoration   \n",
       "3  84559A             3D Sheet Of Dog Stickers   toys & edibles   \n",
       "4   23697              A Pretty Thank You Card  office & school   \n",
       "\n",
       "   2020_units_sold  2021_start_stock  Retail_Price  COGS  Revenue_2020  \\\n",
       "0              440               917         13.32  8.95       5860.80   \n",
       "1              692              1033          1.88  0.83       1300.96   \n",
       "2             1610              1142          2.47  1.26       3976.70   \n",
       "3              918               620          1.90  0.85       1744.20   \n",
       "4              557               530          1.30  0.42        724.10   \n",
       "\n",
       "   COGS_2020  Profit_2020  Pct_revenue_2020  2021_units_sold  Revenue_2021  \\\n",
       "0    3938.00      1922.80              0.98            742.0       9883.44   \n",
       "1     574.36       726.60              0.22            827.0       1554.76   \n",
       "2    2028.60      1948.10              0.66            888.0       2193.36   \n",
       "3     780.30       963.90              0.29            357.0        678.30   \n",
       "4     233.94       490.16              0.12            456.0        592.80   \n",
       "\n",
       "   Pct_revenue_2021  2021_end_stock  Avg_inventory  Inventory_turnover  \n",
       "0              2.22           175.0        4886.70                1.36  \n",
       "1              0.35           206.0         514.19                1.33  \n",
       "2              0.49           254.0         879.48                1.27  \n",
       "3              0.15           263.0         375.28                0.81  \n",
       "4              0.13            74.0         126.84                1.51  "
      ]
     },
     "execution_count": 125,
     "metadata": {},
     "output_type": "execute_result"
    }
   ],
   "source": [
    "# ending stock level\n",
    "products_sales[\"2021_end_stock\"] = products_sales[\"2021_start_stock\"] - products_sales[\"2021_units_sold\"]\n",
    "\n",
    "# average inventory value\n",
    "products_sales[\"Avg_inventory\"] = (\n",
    "    ((products_sales[\"2021_start_stock\"] + products_sales[\"2021_end_stock\"]) * products_sales[\"COGS\"] / 2).round(2)\n",
    ")\n",
    "\n",
    "# inventory turnover rate\n",
    "products_sales[\"Inventory_turnover\"] = (\n",
    "    ((products_sales[\"2021_units_sold\"] * products_sales[\"COGS\"]) / products_sales[\"Avg_inventory\"]).round(2)\n",
    ")\n",
    "\n",
    "products_sales.head()"
   ]
  },
  {
   "cell_type": "code",
   "execution_count": 268,
   "metadata": {},
   "outputs": [
    {
     "data": {
      "application/vnd.plotly.v1+json": {
       "config": {
        "plotlyServerURL": "https://plot.ly"
       },
       "data": [
        {
         "hovertemplate": "<b>%{hovertext}</b><br><br>category=decoration<br>Inventory_turnover=%{marker.size}<br>Revenue_2021=%{y}<extra></extra>",
         "hovertext": [
          "3 Drawer Antique White Wood Cabinet",
          "3 Raffia Ribbons Vintage Christmas",
          "3 White Choc Morris Boxed Candles",
          "Black Medium Glass Cake Stand",
          "Christmas Craft Tree Top Angel",
          "Green Goose Feather Tree 60Cm",
          "Jigsaw Tree With Birdhouse",
          "Moroccan Beaten Metal Dish Large",
          "Pack Of 12 Vintage Christmas Tissue",
          "Paper Bunting Vintage Paisley",
          "Peace Small Wood Letters",
          "Piggy Bank Retrospot",
          "Pink Crystal Guitar Phone Charm",
          "Pink Small Glass Cake Stand",
          "Set Of 4 Knick Knack Tins Doily",
          "Set Of 4 Napkin Charms Instrument",
          "Steel Sweetheart Round Table Cream",
          "Strawberry Ceramic Trinket Box",
          "Summer Daisies Bag Charm",
          "Sweetheart Recipe Book Stand",
          "Sweetheart Wire Magazine Rack",
          "Triangular Pouffe Vintage",
          "Victorian Sewing Box Small",
          "White Wicker Star",
          "Wooden Happy Birthday Garland"
         ],
         "legendgroup": "decoration",
         "marker": {
          "color": "#F8766D",
          "size": [
           1.36,
           1.33,
           1.27,
           0.17,
           1.49,
           0.55,
           1.51,
           0.04,
           1.75,
           1.84,
           0.21,
           1.52,
           0.03,
           0.17,
           1.82,
           0.38,
           0.26,
           1.46,
           0.43,
           1.49,
           0.93,
           0.33,
           1.06,
           1.74,
           1.61
          ],
          "sizemode": "area",
          "sizeref": 0.004925,
          "symbol": "circle"
         },
         "mode": "markers",
         "name": "decoration",
         "orientation": "v",
         "showlegend": true,
         "type": "scatter",
         "x": [
          1.36,
          1.33,
          1.27,
          0.17,
          1.49,
          0.55,
          1.51,
          0.04,
          1.75,
          1.84,
          0.21,
          1.52,
          0.03,
          0.17,
          1.82,
          0.38,
          0.26,
          1.46,
          0.43,
          1.49,
          0.93,
          0.33,
          1.06,
          1.74,
          1.61
         ],
         "xaxis": "x",
         "y": [
          9883.44,
          1554.76,
          2193.36,
          101.83,
          8407.4,
          576.15,
          5062.32,
          168.12,
          3813.75,
          6993.540000000001,
          224.84,
          11046.699999999999,
          1.9,
          82.80000000000001,
          15481.599999999999,
          438.59999999999997,
          892.98,
          22205.300000000003,
          658.86,
          20275.920000000002,
          6799.12,
          1328.5800000000002,
          18360.4,
          5405.91,
          10269.18
         ],
         "yaxis": "y"
        },
        {
         "hovertemplate": "<b>%{hovertext}</b><br><br>category=toys & edibles<br>Inventory_turnover=%{marker.size}<br>Revenue_2021=%{y}<extra></extra>",
         "hovertext": [
          "3D Sheet Of Dog Stickers",
          "Assorted Tutti Frutti Heart Box",
          "Assorted Toffee Chocolate",
          "Doiley Biscuit Tin",
          "Dollcraft Girl Amelie Kit",
          "Dolly Girl Beaker",
          "Doughnut Lip Gloss",
          "Felt Egg Cosy Blue Rabbit",
          "Gymkhanna Treasure Book Box",
          "I Love London Baby Gift Set",
          "Letter \"M\" Bling Key Ring",
          "Red Dragonfly Helicopter",
          "Set Of 12 Mini Bunnies In A Bucket",
          "Set Of 6 Soldier Skittles",
          "Treasure Tin Buffalo Bill",
          "Yellow Dragonfly Helicopter"
         ],
         "legendgroup": "toys & edibles",
         "marker": {
          "color": "#A3A500",
          "size": [
           0.81,
           0.46,
           1.23,
           0.66,
           0.36,
           1.91,
           1.97,
           1.34,
           0.62,
           1.07,
           0.15,
           0.57,
           0.16,
           1.4,
           1.74,
           0.07
          ],
          "sizemode": "area",
          "sizeref": 0.004925,
          "symbol": "circle"
         },
         "mode": "markers",
         "name": "toys & edibles",
         "orientation": "v",
         "showlegend": true,
         "type": "scatter",
         "x": [
          0.81,
          0.46,
          1.23,
          0.66,
          0.36,
          1.91,
          1.97,
          1.34,
          0.62,
          1.07,
          0.15,
          0.57,
          0.16,
          1.4,
          1.74,
          0.07
         ],
         "xaxis": "x",
         "y": [
          678.3,
          432.25000000000006,
          3375.5,
          573.6,
          506.88,
          10237.35,
          22600.55,
          1007,
          465.59999999999997,
          6469.8,
          86.47999999999999,
          797.97,
          128.45,
          26176.260000000002,
          5372.64,
          226.29
         ],
         "yaxis": "y"
        },
        {
         "hovertemplate": "<b>%{hovertext}</b><br><br>category=office & school<br>Inventory_turnover=%{marker.size}<br>Revenue_2021=%{y}<extra></extra>",
         "hovertext": [
          "A Pretty Thank You Card",
          "Champagne Tray Blank Card",
          "Fairy Cakes Notebook A7 Size",
          "Fan Black Frame",
          "French Blue Metal Door Sign 2",
          "Incorrectly Credited C550456 See 47",
          "Jazz Hearts Address Book",
          "Mini Tapes",
          "Polyester Filler Pad 45X30Cm",
          "Polyester Filler Pad 45X45Cm",
          "Popart Rect Pencil Sharpener Asst",
          "Porcelain Budah Incense Holder",
          "Rose Caravan Doorstop",
          "Set 10 Xmas Cards & Badges 17070",
          "Victorian  Metal Postcard Spring"
         ],
         "legendgroup": "office & school",
         "marker": {
          "color": "#00BF7D",
          "size": [
           1.51,
           0.03,
           1.44,
           0.73,
           1.44,
           1.67,
           1.88,
           1.47,
           1.42,
           1.56,
           1.58,
           1.45,
           1.28,
           0.06,
           1.74
          ],
          "sizemode": "area",
          "sizeref": 0.004925,
          "symbol": "circle"
         },
         "mode": "markers",
         "name": "office & school",
         "orientation": "v",
         "showlegend": true,
         "type": "scatter",
         "x": [
          1.51,
          0.03,
          1.44,
          0.73,
          1.44,
          1.67,
          1.88,
          1.47,
          1.42,
          1.56,
          1.58,
          1.45,
          1.28,
          0.06,
          1.74
         ],
         "xaxis": "x",
         "y": [
          592.8000000000001,
          7.76,
          2653.3,
          158.73000000000002,
          792.37,
          1027,
          3066.17,
          2183.1,
          266.75,
          4788.7300000000005,
          1012.68,
          1138.4,
          5610.780000000001,
          46.419999999999995,
          8540.76
         ],
         "yaxis": "y"
        },
        {
         "hovertemplate": "<b>%{hovertext}</b><br><br>category=jewelry<br>Inventory_turnover=%{marker.size}<br>Revenue_2021=%{y}<extra></extra>",
         "hovertext": [
          "Antique Olive Green Flower Earrings",
          "Beaded Crystal Heart Green On Stick",
          "Black/White Glass/Silver Bracelet",
          "Classic Diamante Earrings Set",
          "Diamante Hair Grip Pack/2 Peridot",
          "Diamante Necklace",
          "Diamante Ring Assorted In Box.",
          "Flower Garland Necklace Red",
          "Green Drop Earrings W Bead Cluster",
          "Pink Glass Chunky Charm Bracelet",
          "Red Boudicca Large Bracelet",
          "Silver M.O.P Orbit Drop Earrings"
         ],
         "legendgroup": "jewelry",
         "marker": {
          "color": "#00B0F6",
          "size": [
           0.03,
           1.21,
           0.02,
           0.24,
           0.15,
           0.02,
           0.89,
           0.06,
           0.12,
           0.03,
           0.44,
           0.22
          ],
          "sizemode": "area",
          "sizeref": 0.004925,
          "symbol": "circle"
         },
         "mode": "markers",
         "name": "jewelry",
         "orientation": "v",
         "showlegend": true,
         "type": "scatter",
         "x": [
          0.03,
          1.21,
          0.02,
          0.24,
          0.15,
          0.02,
          0.89,
          0.06,
          0.12,
          0.03,
          0.44,
          0.22
         ],
         "xaxis": "x",
         "y": [
          40.08,
          1099.8,
          101.36,
          67.06,
          71.07,
          37.32,
          1719.1200000000001,
          71.46000000000001,
          59.29,
          124.83,
          294,
          282.08
         ],
         "yaxis": "y"
        },
        {
         "hovertemplate": "<b>%{hovertext}</b><br><br>category=home accessories<br>Inventory_turnover=%{marker.size}<br>Revenue_2021=%{y}<extra></extra>",
         "hovertext": [
          "Black Square Table Clock",
          "Blue Chenille Shaggy Cushion Cover",
          "Blue Fly Swat",
          "Blue Wire Spiral Candle Holder",
          "Childrens Cutlery Polkadot Green",
          "Christmas Toilet Roll",
          "Classic Metal Birdcage Plant Holder",
          "Doiley Storage Tin",
          "Easter Tin Keepsake",
          "Enamel Blue Rim Coffee Container",
          "Fairy Dreams Incense",
          "Fairy Soap Soap Holder",
          "Gingham Recipe Book Box",
          "Grow A Flytrap Or Sunflower In Tin",
          "Hand Warmer Union Jack",
          "Jumbo Bag Dolly Girl Design",
          "Ma Campagne Cutlery Box",
          "Multicolour Spring Flower Mug",
          "Origami Vanilla Incense Cones",
          "Peg Bag Apple Design",
          "Picnic Basket Wicker 60 Pieces",
          "Pink Pot Plant Candle",
          "Psychedelic Tile Coaster",
          "Red White Scarf  Hot Water Bottle",
          "Regency Milk Jug Pink",
          "Ribbon Reel Flora + Fauna",
          "Ridged Glass Storage Jar Cream Lid",
          "Salle De Bain Hook",
          "Save The Planet Cotton Tote Bag",
          "White Spot Red Ceramic Drawer Knob",
          "Woodland Charlotte Bag",
          "Woven Berries Cushion Cover",
          "Yellow/Blue Retro Radio"
         ],
         "legendgroup": "home accessories",
         "marker": {
          "color": "#E76BF3",
          "size": [
           0.37,
           0.13,
           0.47,
           0.06,
           0.05,
           1.32,
           1.37,
           1.45,
           1.52,
           0.83,
           1.42,
           0.58,
           0.94,
           1.42,
           1.27,
           1.76,
           1.54,
           1.52,
           0.62,
           0.76,
           0.28,
           0.68,
           1.12,
           0.01,
           1.87,
           1.51,
           0.31,
           0.99,
           0.91,
           1.71,
           1.76,
           0.57,
           0.14
          ],
          "sizemode": "area",
          "sizeref": 0.004925,
          "symbol": "circle"
         },
         "mode": "markers",
         "name": "home accessories",
         "orientation": "v",
         "showlegend": true,
         "type": "scatter",
         "x": [
          0.37,
          0.13,
          0.47,
          0.06,
          0.05,
          1.32,
          1.37,
          1.45,
          1.52,
          0.83,
          1.42,
          0.58,
          0.94,
          1.42,
          1.27,
          1.76,
          1.54,
          1.52,
          0.62,
          0.76,
          0.28,
          0.68,
          1.12,
          0.01,
          1.87,
          1.51,
          0.31,
          0.99,
          0.91,
          1.71,
          1.76,
          0.57,
          0.14
         ],
         "xaxis": "x",
         "y": [
          877.8000000000001,
          81.7,
          309.40000000000003,
          67.62,
          1251.39,
          7548.320000000001,
          17503.16,
          5229.320000000001,
          3275.43,
          283.88,
          1602.9,
          685.98,
          7418.72,
          33717.97,
          12928.86,
          13940.31,
          3310.5600000000004,
          3168.75,
          169,
          367,
          4300.5,
          972.0000000000001,
          527.8000000000001,
          12.65,
          16737.56,
          1896.78,
          239.60000000000002,
          1247.3500000000001,
          2498.72,
          11539.84,
          24014.1,
          992.5600000000001,
          77.76
         ],
         "yaxis": "y"
        }
       ],
       "layout": {
        "height": 600,
        "legend": {
         "itemsizing": "constant",
         "title": {
          "text": "Product Category"
         },
         "tracegroupgap": 0
        },
        "template": {
         "data": {
          "bar": [
           {
            "error_x": {
             "color": "rgb(51,51,51)"
            },
            "error_y": {
             "color": "rgb(51,51,51)"
            },
            "marker": {
             "line": {
              "color": "rgb(237,237,237)",
              "width": 0.5
             },
             "pattern": {
              "fillmode": "overlay",
              "size": 10,
              "solidity": 0.2
             }
            },
            "type": "bar"
           }
          ],
          "barpolar": [
           {
            "marker": {
             "line": {
              "color": "rgb(237,237,237)",
              "width": 0.5
             },
             "pattern": {
              "fillmode": "overlay",
              "size": 10,
              "solidity": 0.2
             }
            },
            "type": "barpolar"
           }
          ],
          "carpet": [
           {
            "aaxis": {
             "endlinecolor": "rgb(51,51,51)",
             "gridcolor": "white",
             "linecolor": "white",
             "minorgridcolor": "white",
             "startlinecolor": "rgb(51,51,51)"
            },
            "baxis": {
             "endlinecolor": "rgb(51,51,51)",
             "gridcolor": "white",
             "linecolor": "white",
             "minorgridcolor": "white",
             "startlinecolor": "rgb(51,51,51)"
            },
            "type": "carpet"
           }
          ],
          "choropleth": [
           {
            "colorbar": {
             "outlinewidth": 0,
             "tickcolor": "rgb(237,237,237)",
             "ticklen": 6,
             "ticks": "inside"
            },
            "type": "choropleth"
           }
          ],
          "contour": [
           {
            "colorbar": {
             "outlinewidth": 0,
             "tickcolor": "rgb(237,237,237)",
             "ticklen": 6,
             "ticks": "inside"
            },
            "colorscale": [
             [
              0,
              "rgb(20,44,66)"
             ],
             [
              1,
              "rgb(90,179,244)"
             ]
            ],
            "type": "contour"
           }
          ],
          "contourcarpet": [
           {
            "colorbar": {
             "outlinewidth": 0,
             "tickcolor": "rgb(237,237,237)",
             "ticklen": 6,
             "ticks": "inside"
            },
            "type": "contourcarpet"
           }
          ],
          "heatmap": [
           {
            "colorbar": {
             "outlinewidth": 0,
             "tickcolor": "rgb(237,237,237)",
             "ticklen": 6,
             "ticks": "inside"
            },
            "colorscale": [
             [
              0,
              "rgb(20,44,66)"
             ],
             [
              1,
              "rgb(90,179,244)"
             ]
            ],
            "type": "heatmap"
           }
          ],
          "heatmapgl": [
           {
            "colorbar": {
             "outlinewidth": 0,
             "tickcolor": "rgb(237,237,237)",
             "ticklen": 6,
             "ticks": "inside"
            },
            "colorscale": [
             [
              0,
              "rgb(20,44,66)"
             ],
             [
              1,
              "rgb(90,179,244)"
             ]
            ],
            "type": "heatmapgl"
           }
          ],
          "histogram": [
           {
            "marker": {
             "pattern": {
              "fillmode": "overlay",
              "size": 10,
              "solidity": 0.2
             }
            },
            "type": "histogram"
           }
          ],
          "histogram2d": [
           {
            "colorbar": {
             "outlinewidth": 0,
             "tickcolor": "rgb(237,237,237)",
             "ticklen": 6,
             "ticks": "inside"
            },
            "colorscale": [
             [
              0,
              "rgb(20,44,66)"
             ],
             [
              1,
              "rgb(90,179,244)"
             ]
            ],
            "type": "histogram2d"
           }
          ],
          "histogram2dcontour": [
           {
            "colorbar": {
             "outlinewidth": 0,
             "tickcolor": "rgb(237,237,237)",
             "ticklen": 6,
             "ticks": "inside"
            },
            "colorscale": [
             [
              0,
              "rgb(20,44,66)"
             ],
             [
              1,
              "rgb(90,179,244)"
             ]
            ],
            "type": "histogram2dcontour"
           }
          ],
          "mesh3d": [
           {
            "colorbar": {
             "outlinewidth": 0,
             "tickcolor": "rgb(237,237,237)",
             "ticklen": 6,
             "ticks": "inside"
            },
            "type": "mesh3d"
           }
          ],
          "parcoords": [
           {
            "line": {
             "colorbar": {
              "outlinewidth": 0,
              "tickcolor": "rgb(237,237,237)",
              "ticklen": 6,
              "ticks": "inside"
             }
            },
            "type": "parcoords"
           }
          ],
          "pie": [
           {
            "automargin": true,
            "type": "pie"
           }
          ],
          "scatter": [
           {
            "fillpattern": {
             "fillmode": "overlay",
             "size": 10,
             "solidity": 0.2
            },
            "type": "scatter"
           }
          ],
          "scatter3d": [
           {
            "line": {
             "colorbar": {
              "outlinewidth": 0,
              "tickcolor": "rgb(237,237,237)",
              "ticklen": 6,
              "ticks": "inside"
             }
            },
            "marker": {
             "colorbar": {
              "outlinewidth": 0,
              "tickcolor": "rgb(237,237,237)",
              "ticklen": 6,
              "ticks": "inside"
             }
            },
            "type": "scatter3d"
           }
          ],
          "scattercarpet": [
           {
            "marker": {
             "colorbar": {
              "outlinewidth": 0,
              "tickcolor": "rgb(237,237,237)",
              "ticklen": 6,
              "ticks": "inside"
             }
            },
            "type": "scattercarpet"
           }
          ],
          "scattergeo": [
           {
            "marker": {
             "colorbar": {
              "outlinewidth": 0,
              "tickcolor": "rgb(237,237,237)",
              "ticklen": 6,
              "ticks": "inside"
             }
            },
            "type": "scattergeo"
           }
          ],
          "scattergl": [
           {
            "marker": {
             "colorbar": {
              "outlinewidth": 0,
              "tickcolor": "rgb(237,237,237)",
              "ticklen": 6,
              "ticks": "inside"
             }
            },
            "type": "scattergl"
           }
          ],
          "scattermapbox": [
           {
            "marker": {
             "colorbar": {
              "outlinewidth": 0,
              "tickcolor": "rgb(237,237,237)",
              "ticklen": 6,
              "ticks": "inside"
             }
            },
            "type": "scattermapbox"
           }
          ],
          "scatterpolar": [
           {
            "marker": {
             "colorbar": {
              "outlinewidth": 0,
              "tickcolor": "rgb(237,237,237)",
              "ticklen": 6,
              "ticks": "inside"
             }
            },
            "type": "scatterpolar"
           }
          ],
          "scatterpolargl": [
           {
            "marker": {
             "colorbar": {
              "outlinewidth": 0,
              "tickcolor": "rgb(237,237,237)",
              "ticklen": 6,
              "ticks": "inside"
             }
            },
            "type": "scatterpolargl"
           }
          ],
          "scatterternary": [
           {
            "marker": {
             "colorbar": {
              "outlinewidth": 0,
              "tickcolor": "rgb(237,237,237)",
              "ticklen": 6,
              "ticks": "inside"
             }
            },
            "type": "scatterternary"
           }
          ],
          "surface": [
           {
            "colorbar": {
             "outlinewidth": 0,
             "tickcolor": "rgb(237,237,237)",
             "ticklen": 6,
             "ticks": "inside"
            },
            "colorscale": [
             [
              0,
              "rgb(20,44,66)"
             ],
             [
              1,
              "rgb(90,179,244)"
             ]
            ],
            "type": "surface"
           }
          ],
          "table": [
           {
            "cells": {
             "fill": {
              "color": "rgb(237,237,237)"
             },
             "line": {
              "color": "white"
             }
            },
            "header": {
             "fill": {
              "color": "rgb(217,217,217)"
             },
             "line": {
              "color": "white"
             }
            },
            "type": "table"
           }
          ]
         },
         "layout": {
          "annotationdefaults": {
           "arrowhead": 0,
           "arrowwidth": 1
          },
          "autotypenumbers": "strict",
          "coloraxis": {
           "colorbar": {
            "outlinewidth": 0,
            "tickcolor": "rgb(237,237,237)",
            "ticklen": 6,
            "ticks": "inside"
           }
          },
          "colorscale": {
           "sequential": [
            [
             0,
             "rgb(20,44,66)"
            ],
            [
             1,
             "rgb(90,179,244)"
            ]
           ],
           "sequentialminus": [
            [
             0,
             "rgb(20,44,66)"
            ],
            [
             1,
             "rgb(90,179,244)"
            ]
           ]
          },
          "colorway": [
           "#F8766D",
           "#A3A500",
           "#00BF7D",
           "#00B0F6",
           "#E76BF3"
          ],
          "font": {
           "color": "rgb(51,51,51)"
          },
          "geo": {
           "bgcolor": "white",
           "lakecolor": "white",
           "landcolor": "rgb(237,237,237)",
           "showlakes": true,
           "showland": true,
           "subunitcolor": "white"
          },
          "hoverlabel": {
           "align": "left"
          },
          "hovermode": "closest",
          "paper_bgcolor": "white",
          "plot_bgcolor": "rgb(237,237,237)",
          "polar": {
           "angularaxis": {
            "gridcolor": "white",
            "linecolor": "white",
            "showgrid": true,
            "tickcolor": "rgb(51,51,51)",
            "ticks": "outside"
           },
           "bgcolor": "rgb(237,237,237)",
           "radialaxis": {
            "gridcolor": "white",
            "linecolor": "white",
            "showgrid": true,
            "tickcolor": "rgb(51,51,51)",
            "ticks": "outside"
           }
          },
          "scene": {
           "xaxis": {
            "backgroundcolor": "rgb(237,237,237)",
            "gridcolor": "white",
            "gridwidth": 2,
            "linecolor": "white",
            "showbackground": true,
            "showgrid": true,
            "tickcolor": "rgb(51,51,51)",
            "ticks": "outside",
            "zerolinecolor": "white"
           },
           "yaxis": {
            "backgroundcolor": "rgb(237,237,237)",
            "gridcolor": "white",
            "gridwidth": 2,
            "linecolor": "white",
            "showbackground": true,
            "showgrid": true,
            "tickcolor": "rgb(51,51,51)",
            "ticks": "outside",
            "zerolinecolor": "white"
           },
           "zaxis": {
            "backgroundcolor": "rgb(237,237,237)",
            "gridcolor": "white",
            "gridwidth": 2,
            "linecolor": "white",
            "showbackground": true,
            "showgrid": true,
            "tickcolor": "rgb(51,51,51)",
            "ticks": "outside",
            "zerolinecolor": "white"
           }
          },
          "shapedefaults": {
           "fillcolor": "black",
           "line": {
            "width": 0
           },
           "opacity": 0.3
          },
          "ternary": {
           "aaxis": {
            "gridcolor": "white",
            "linecolor": "white",
            "showgrid": true,
            "tickcolor": "rgb(51,51,51)",
            "ticks": "outside"
           },
           "baxis": {
            "gridcolor": "white",
            "linecolor": "white",
            "showgrid": true,
            "tickcolor": "rgb(51,51,51)",
            "ticks": "outside"
           },
           "bgcolor": "rgb(237,237,237)",
           "caxis": {
            "gridcolor": "white",
            "linecolor": "white",
            "showgrid": true,
            "tickcolor": "rgb(51,51,51)",
            "ticks": "outside"
           }
          },
          "xaxis": {
           "automargin": true,
           "gridcolor": "white",
           "linecolor": "white",
           "showgrid": true,
           "tickcolor": "rgb(51,51,51)",
           "ticks": "outside",
           "title": {
            "standoff": 15
           },
           "zerolinecolor": "white"
          },
          "yaxis": {
           "automargin": true,
           "gridcolor": "white",
           "linecolor": "white",
           "showgrid": true,
           "tickcolor": "rgb(51,51,51)",
           "ticks": "outside",
           "title": {
            "standoff": 15
           },
           "zerolinecolor": "white"
          }
         }
        },
        "title": {
         "text": "Turnover Rate vs Revenue by Product Category"
        },
        "width": 1200,
        "xaxis": {
         "anchor": "y",
         "domain": [
          0,
          1
         ],
         "title": {
          "text": "Inventory Turnover Rate"
         }
        },
        "yaxis": {
         "anchor": "x",
         "domain": [
          0,
          1
         ],
         "title": {}
        }
       }
      }
     },
     "metadata": {},
     "output_type": "display_data"
    }
   ],
   "source": [
    "# Turnover Rate vs Revenue by Product Category scatter plot\n",
    "\n",
    "fig = px.scatter(\n",
    "    products_sales.dropna(),\n",
    "    x=\"Inventory_turnover\",\n",
    "    y=\"Revenue_2021\",\n",
    "    size=\"Inventory_turnover\",\n",
    "    color=\"category\",\n",
    "    hover_name=\"Description\",\n",
    "    title=\"Turnover Rate vs Revenue by Product Category\",\n",
    "    width=1200, height=600\n",
    ")\n",
    "\n",
    "fig.update_layout(yaxis_title=None)\n",
    "fig.update_layout(xaxis_title=\"Inventory Turnover Rate\")\n",
    "fig.update_layout(legend_title_text=\"Product Category\")\n",
    "fig.show()"
   ]
  },
  {
   "cell_type": "markdown",
   "metadata": {},
   "source": [
    "### **ABC analysis for 2021**\n",
    "\n",
    "**ABC Product Analysis** is a classification technique used to categorize products or items into different groups based on their importance to a business. \"A\" representing the most valuable  items while \"C\" representing the least. ABC categories are assigned to products based on their accumulated percentage of revenue:\n",
    "\n",
    "- less than 70% - A category\n",
    "- between 70% to 90% - B category \n",
    "- more than 90% - C category"
   ]
  },
  {
   "cell_type": "code",
   "execution_count": 90,
   "metadata": {},
   "outputs": [],
   "source": [
    "abc_analysis = (\n",
    "    products_sales.loc[:, [\"SKU-ID\", \"category\", \"Description\", \"Revenue_2021\", \"Pct_revenue_2021\"]]\n",
    "    .sort_values(\"Pct_revenue_2021\", ascending=False)\n",
    "    .fillna({\"Revenue_2021\" : 0, \"Pct_revenue_2021\" : 0})\n",
    ")"
   ]
  },
  {
   "cell_type": "code",
   "execution_count": 126,
   "metadata": {},
   "outputs": [
    {
     "data": {
      "text/html": [
       "<div>\n",
       "<style scoped>\n",
       "    .dataframe tbody tr th:only-of-type {\n",
       "        vertical-align: middle;\n",
       "    }\n",
       "\n",
       "    .dataframe tbody tr th {\n",
       "        vertical-align: top;\n",
       "    }\n",
       "\n",
       "    .dataframe thead th {\n",
       "        text-align: right;\n",
       "    }\n",
       "</style>\n",
       "<table border=\"1\" class=\"dataframe\">\n",
       "  <thead>\n",
       "    <tr style=\"text-align: right;\">\n",
       "      <th></th>\n",
       "      <th>SKU-ID</th>\n",
       "      <th>category</th>\n",
       "      <th>Description</th>\n",
       "      <th>Revenue_2021</th>\n",
       "      <th>Pct_revenue_2021</th>\n",
       "      <th>Accumulated_revenue_pct</th>\n",
       "      <th>ABC_category</th>\n",
       "      <th>Rank</th>\n",
       "    </tr>\n",
       "  </thead>\n",
       "  <tbody>\n",
       "    <tr>\n",
       "      <th>42</th>\n",
       "      <td>22693</td>\n",
       "      <td>home accessories</td>\n",
       "      <td>Grow A Flytrap Or Sunflower In Tin</td>\n",
       "      <td>33717.97</td>\n",
       "      <td>7.56</td>\n",
       "      <td>7.56</td>\n",
       "      <td>A</td>\n",
       "      <td>1</td>\n",
       "    </tr>\n",
       "    <tr>\n",
       "      <th>86</th>\n",
       "      <td>22619</td>\n",
       "      <td>toys &amp; edibles</td>\n",
       "      <td>Set Of 6 Soldier Skittles</td>\n",
       "      <td>26176.26</td>\n",
       "      <td>5.87</td>\n",
       "      <td>13.43</td>\n",
       "      <td>A</td>\n",
       "      <td>2</td>\n",
       "    </tr>\n",
       "    <tr>\n",
       "      <th>100</th>\n",
       "      <td>20719</td>\n",
       "      <td>home accessories</td>\n",
       "      <td>Woodland Charlotte Bag</td>\n",
       "      <td>24014.10</td>\n",
       "      <td>5.38</td>\n",
       "      <td>18.81</td>\n",
       "      <td>A</td>\n",
       "      <td>3</td>\n",
       "    </tr>\n",
       "    <tr>\n",
       "      <th>28</th>\n",
       "      <td>23077</td>\n",
       "      <td>toys &amp; edibles</td>\n",
       "      <td>Doughnut Lip Gloss</td>\n",
       "      <td>22600.55</td>\n",
       "      <td>5.07</td>\n",
       "      <td>23.88</td>\n",
       "      <td>A</td>\n",
       "      <td>4</td>\n",
       "    </tr>\n",
       "    <tr>\n",
       "      <th>89</th>\n",
       "      <td>21232</td>\n",
       "      <td>decoration</td>\n",
       "      <td>Strawberry Ceramic Trinket Box</td>\n",
       "      <td>22205.30</td>\n",
       "      <td>4.98</td>\n",
       "      <td>28.86</td>\n",
       "      <td>A</td>\n",
       "      <td>5</td>\n",
       "    </tr>\n",
       "  </tbody>\n",
       "</table>\n",
       "</div>"
      ],
      "text/plain": [
       "    SKU-ID          category                         Description  \\\n",
       "42   22693  home accessories  Grow A Flytrap Or Sunflower In Tin   \n",
       "86   22619    toys & edibles           Set Of 6 Soldier Skittles   \n",
       "100  20719  home accessories              Woodland Charlotte Bag   \n",
       "28   23077    toys & edibles                  Doughnut Lip Gloss   \n",
       "89   21232        decoration      Strawberry Ceramic Trinket Box   \n",
       "\n",
       "     Revenue_2021  Pct_revenue_2021  Accumulated_revenue_pct ABC_category  \\\n",
       "42       33717.97              7.56                     7.56            A   \n",
       "86       26176.26              5.87                    13.43            A   \n",
       "100      24014.10              5.38                    18.81            A   \n",
       "28       22600.55              5.07                    23.88            A   \n",
       "89       22205.30              4.98                    28.86            A   \n",
       "\n",
       "     Rank  \n",
       "42      1  \n",
       "86      2  \n",
       "100     3  \n",
       "28      4  \n",
       "89      5  "
      ]
     },
     "execution_count": 126,
     "metadata": {},
     "output_type": "execute_result"
    }
   ],
   "source": [
    "# accumulated % of revenue\n",
    "abc_analysis[\"Accumulated_revenue_pct\"] = abc_analysis[\"Pct_revenue_2021\"].cumsum()\n",
    "\n",
    "# abc categories\n",
    "abc_analysis[\"ABC_category\"] = np.where(\n",
    "    abc_analysis[\"Accumulated_revenue_pct\"] < 70, \"A\",\n",
    "    np.where(abc_analysis[\"Accumulated_revenue_pct\"].between(70, 90), \"B\", \"C\")\n",
    ")\n",
    "\n",
    "# ranking\n",
    "abc_analysis[\"Rank\"] = abc_analysis[\"Pct_revenue_2021\"].rank(method=\"first\", ascending=False).astype(int)\n",
    "\n",
    "abc_analysis.head()"
   ]
  },
  {
   "cell_type": "code",
   "execution_count": 206,
   "metadata": {},
   "outputs": [
    {
     "data": {
      "application/vnd.plotly.v1+json": {
       "config": {
        "plotlyServerURL": "https://plot.ly"
       },
       "data": [
        {
         "alignmentgroup": "True",
         "hovertemplate": "ABC_category=%{x}<br>Revenue=%{y}<extra></extra>",
         "legendgroup": "",
         "marker": {
          "color": "#F8766D",
          "pattern": {
           "shape": ""
          }
         },
         "name": "",
         "offsetgroup": "",
         "orientation": "v",
         "showlegend": false,
         "textposition": "auto",
         "texttemplate": "%{y}",
         "type": "bar",
         "x": [
          "A",
          "B",
          "C"
         ],
         "xaxis": "x",
         "y": [
          305459.26,
          93182.34,
          47369.19
         ],
         "yaxis": "y"
        }
       ],
       "layout": {
        "barmode": "relative",
        "height": 600,
        "legend": {
         "tracegroupgap": 0
        },
        "template": {
         "data": {
          "bar": [
           {
            "error_x": {
             "color": "rgb(51,51,51)"
            },
            "error_y": {
             "color": "rgb(51,51,51)"
            },
            "marker": {
             "line": {
              "color": "rgb(237,237,237)",
              "width": 0.5
             },
             "pattern": {
              "fillmode": "overlay",
              "size": 10,
              "solidity": 0.2
             }
            },
            "type": "bar"
           }
          ],
          "barpolar": [
           {
            "marker": {
             "line": {
              "color": "rgb(237,237,237)",
              "width": 0.5
             },
             "pattern": {
              "fillmode": "overlay",
              "size": 10,
              "solidity": 0.2
             }
            },
            "type": "barpolar"
           }
          ],
          "carpet": [
           {
            "aaxis": {
             "endlinecolor": "rgb(51,51,51)",
             "gridcolor": "white",
             "linecolor": "white",
             "minorgridcolor": "white",
             "startlinecolor": "rgb(51,51,51)"
            },
            "baxis": {
             "endlinecolor": "rgb(51,51,51)",
             "gridcolor": "white",
             "linecolor": "white",
             "minorgridcolor": "white",
             "startlinecolor": "rgb(51,51,51)"
            },
            "type": "carpet"
           }
          ],
          "choropleth": [
           {
            "colorbar": {
             "outlinewidth": 0,
             "tickcolor": "rgb(237,237,237)",
             "ticklen": 6,
             "ticks": "inside"
            },
            "type": "choropleth"
           }
          ],
          "contour": [
           {
            "colorbar": {
             "outlinewidth": 0,
             "tickcolor": "rgb(237,237,237)",
             "ticklen": 6,
             "ticks": "inside"
            },
            "colorscale": [
             [
              0,
              "rgb(20,44,66)"
             ],
             [
              1,
              "rgb(90,179,244)"
             ]
            ],
            "type": "contour"
           }
          ],
          "contourcarpet": [
           {
            "colorbar": {
             "outlinewidth": 0,
             "tickcolor": "rgb(237,237,237)",
             "ticklen": 6,
             "ticks": "inside"
            },
            "type": "contourcarpet"
           }
          ],
          "heatmap": [
           {
            "colorbar": {
             "outlinewidth": 0,
             "tickcolor": "rgb(237,237,237)",
             "ticklen": 6,
             "ticks": "inside"
            },
            "colorscale": [
             [
              0,
              "rgb(20,44,66)"
             ],
             [
              1,
              "rgb(90,179,244)"
             ]
            ],
            "type": "heatmap"
           }
          ],
          "heatmapgl": [
           {
            "colorbar": {
             "outlinewidth": 0,
             "tickcolor": "rgb(237,237,237)",
             "ticklen": 6,
             "ticks": "inside"
            },
            "colorscale": [
             [
              0,
              "rgb(20,44,66)"
             ],
             [
              1,
              "rgb(90,179,244)"
             ]
            ],
            "type": "heatmapgl"
           }
          ],
          "histogram": [
           {
            "marker": {
             "pattern": {
              "fillmode": "overlay",
              "size": 10,
              "solidity": 0.2
             }
            },
            "type": "histogram"
           }
          ],
          "histogram2d": [
           {
            "colorbar": {
             "outlinewidth": 0,
             "tickcolor": "rgb(237,237,237)",
             "ticklen": 6,
             "ticks": "inside"
            },
            "colorscale": [
             [
              0,
              "rgb(20,44,66)"
             ],
             [
              1,
              "rgb(90,179,244)"
             ]
            ],
            "type": "histogram2d"
           }
          ],
          "histogram2dcontour": [
           {
            "colorbar": {
             "outlinewidth": 0,
             "tickcolor": "rgb(237,237,237)",
             "ticklen": 6,
             "ticks": "inside"
            },
            "colorscale": [
             [
              0,
              "rgb(20,44,66)"
             ],
             [
              1,
              "rgb(90,179,244)"
             ]
            ],
            "type": "histogram2dcontour"
           }
          ],
          "mesh3d": [
           {
            "colorbar": {
             "outlinewidth": 0,
             "tickcolor": "rgb(237,237,237)",
             "ticklen": 6,
             "ticks": "inside"
            },
            "type": "mesh3d"
           }
          ],
          "parcoords": [
           {
            "line": {
             "colorbar": {
              "outlinewidth": 0,
              "tickcolor": "rgb(237,237,237)",
              "ticklen": 6,
              "ticks": "inside"
             }
            },
            "type": "parcoords"
           }
          ],
          "pie": [
           {
            "automargin": true,
            "type": "pie"
           }
          ],
          "scatter": [
           {
            "fillpattern": {
             "fillmode": "overlay",
             "size": 10,
             "solidity": 0.2
            },
            "type": "scatter"
           }
          ],
          "scatter3d": [
           {
            "line": {
             "colorbar": {
              "outlinewidth": 0,
              "tickcolor": "rgb(237,237,237)",
              "ticklen": 6,
              "ticks": "inside"
             }
            },
            "marker": {
             "colorbar": {
              "outlinewidth": 0,
              "tickcolor": "rgb(237,237,237)",
              "ticklen": 6,
              "ticks": "inside"
             }
            },
            "type": "scatter3d"
           }
          ],
          "scattercarpet": [
           {
            "marker": {
             "colorbar": {
              "outlinewidth": 0,
              "tickcolor": "rgb(237,237,237)",
              "ticklen": 6,
              "ticks": "inside"
             }
            },
            "type": "scattercarpet"
           }
          ],
          "scattergeo": [
           {
            "marker": {
             "colorbar": {
              "outlinewidth": 0,
              "tickcolor": "rgb(237,237,237)",
              "ticklen": 6,
              "ticks": "inside"
             }
            },
            "type": "scattergeo"
           }
          ],
          "scattergl": [
           {
            "marker": {
             "colorbar": {
              "outlinewidth": 0,
              "tickcolor": "rgb(237,237,237)",
              "ticklen": 6,
              "ticks": "inside"
             }
            },
            "type": "scattergl"
           }
          ],
          "scattermapbox": [
           {
            "marker": {
             "colorbar": {
              "outlinewidth": 0,
              "tickcolor": "rgb(237,237,237)",
              "ticklen": 6,
              "ticks": "inside"
             }
            },
            "type": "scattermapbox"
           }
          ],
          "scatterpolar": [
           {
            "marker": {
             "colorbar": {
              "outlinewidth": 0,
              "tickcolor": "rgb(237,237,237)",
              "ticklen": 6,
              "ticks": "inside"
             }
            },
            "type": "scatterpolar"
           }
          ],
          "scatterpolargl": [
           {
            "marker": {
             "colorbar": {
              "outlinewidth": 0,
              "tickcolor": "rgb(237,237,237)",
              "ticklen": 6,
              "ticks": "inside"
             }
            },
            "type": "scatterpolargl"
           }
          ],
          "scatterternary": [
           {
            "marker": {
             "colorbar": {
              "outlinewidth": 0,
              "tickcolor": "rgb(237,237,237)",
              "ticklen": 6,
              "ticks": "inside"
             }
            },
            "type": "scatterternary"
           }
          ],
          "surface": [
           {
            "colorbar": {
             "outlinewidth": 0,
             "tickcolor": "rgb(237,237,237)",
             "ticklen": 6,
             "ticks": "inside"
            },
            "colorscale": [
             [
              0,
              "rgb(20,44,66)"
             ],
             [
              1,
              "rgb(90,179,244)"
             ]
            ],
            "type": "surface"
           }
          ],
          "table": [
           {
            "cells": {
             "fill": {
              "color": "rgb(237,237,237)"
             },
             "line": {
              "color": "white"
             }
            },
            "header": {
             "fill": {
              "color": "rgb(217,217,217)"
             },
             "line": {
              "color": "white"
             }
            },
            "type": "table"
           }
          ]
         },
         "layout": {
          "annotationdefaults": {
           "arrowhead": 0,
           "arrowwidth": 1
          },
          "autotypenumbers": "strict",
          "coloraxis": {
           "colorbar": {
            "outlinewidth": 0,
            "tickcolor": "rgb(237,237,237)",
            "ticklen": 6,
            "ticks": "inside"
           }
          },
          "colorscale": {
           "sequential": [
            [
             0,
             "rgb(20,44,66)"
            ],
            [
             1,
             "rgb(90,179,244)"
            ]
           ],
           "sequentialminus": [
            [
             0,
             "rgb(20,44,66)"
            ],
            [
             1,
             "rgb(90,179,244)"
            ]
           ]
          },
          "colorway": [
           "#F8766D",
           "#A3A500",
           "#00BF7D",
           "#00B0F6",
           "#E76BF3"
          ],
          "font": {
           "color": "rgb(51,51,51)"
          },
          "geo": {
           "bgcolor": "white",
           "lakecolor": "white",
           "landcolor": "rgb(237,237,237)",
           "showlakes": true,
           "showland": true,
           "subunitcolor": "white"
          },
          "hoverlabel": {
           "align": "left"
          },
          "hovermode": "closest",
          "paper_bgcolor": "white",
          "plot_bgcolor": "rgb(237,237,237)",
          "polar": {
           "angularaxis": {
            "gridcolor": "white",
            "linecolor": "white",
            "showgrid": true,
            "tickcolor": "rgb(51,51,51)",
            "ticks": "outside"
           },
           "bgcolor": "rgb(237,237,237)",
           "radialaxis": {
            "gridcolor": "white",
            "linecolor": "white",
            "showgrid": true,
            "tickcolor": "rgb(51,51,51)",
            "ticks": "outside"
           }
          },
          "scene": {
           "xaxis": {
            "backgroundcolor": "rgb(237,237,237)",
            "gridcolor": "white",
            "gridwidth": 2,
            "linecolor": "white",
            "showbackground": true,
            "showgrid": true,
            "tickcolor": "rgb(51,51,51)",
            "ticks": "outside",
            "zerolinecolor": "white"
           },
           "yaxis": {
            "backgroundcolor": "rgb(237,237,237)",
            "gridcolor": "white",
            "gridwidth": 2,
            "linecolor": "white",
            "showbackground": true,
            "showgrid": true,
            "tickcolor": "rgb(51,51,51)",
            "ticks": "outside",
            "zerolinecolor": "white"
           },
           "zaxis": {
            "backgroundcolor": "rgb(237,237,237)",
            "gridcolor": "white",
            "gridwidth": 2,
            "linecolor": "white",
            "showbackground": true,
            "showgrid": true,
            "tickcolor": "rgb(51,51,51)",
            "ticks": "outside",
            "zerolinecolor": "white"
           }
          },
          "shapedefaults": {
           "fillcolor": "black",
           "line": {
            "width": 0
           },
           "opacity": 0.3
          },
          "ternary": {
           "aaxis": {
            "gridcolor": "white",
            "linecolor": "white",
            "showgrid": true,
            "tickcolor": "rgb(51,51,51)",
            "ticks": "outside"
           },
           "baxis": {
            "gridcolor": "white",
            "linecolor": "white",
            "showgrid": true,
            "tickcolor": "rgb(51,51,51)",
            "ticks": "outside"
           },
           "bgcolor": "rgb(237,237,237)",
           "caxis": {
            "gridcolor": "white",
            "linecolor": "white",
            "showgrid": true,
            "tickcolor": "rgb(51,51,51)",
            "ticks": "outside"
           }
          },
          "xaxis": {
           "automargin": true,
           "gridcolor": "white",
           "linecolor": "white",
           "showgrid": true,
           "tickcolor": "rgb(51,51,51)",
           "ticks": "outside",
           "title": {
            "standoff": 15
           },
           "zerolinecolor": "white"
          },
          "yaxis": {
           "automargin": true,
           "gridcolor": "white",
           "linecolor": "white",
           "showgrid": true,
           "tickcolor": "rgb(51,51,51)",
           "ticks": "outside",
           "title": {
            "standoff": 15
           },
           "zerolinecolor": "white"
          }
         }
        },
        "title": {
         "text": "Revenue by ABC Category in 2021"
        },
        "width": 800,
        "xaxis": {
         "anchor": "y",
         "domain": [
          0,
          1
         ],
         "title": {
          "text": "ABC Category"
         }
        },
        "yaxis": {
         "anchor": "x",
         "domain": [
          0,
          1
         ],
         "title": {}
        }
       }
      }
     },
     "metadata": {},
     "output_type": "display_data"
    }
   ],
   "source": [
    "# Revenue by ABC Category in 2021 bar chart\n",
    "\n",
    "revenue_by_abc = abc_analysis.groupby(\"ABC_category\").agg(Revenue=(\"Revenue_2021\", \"sum\")).reset_index()\n",
    "\n",
    "fig = px.bar(\n",
    "    revenue_by_abc,\n",
    "    x=\"ABC_category\",\n",
    "    y=\"Revenue\",\n",
    "    title=\"Revenue by ABC Category in 2021\",\n",
    "    text_auto=True,\n",
    "    width=800, height=600\n",
    ")\n",
    "\n",
    "fig.update_layout(yaxis_title=None)\n",
    "fig.update_layout(xaxis_title=\"ABC Category\")\n",
    "fig.show()"
   ]
  },
  {
   "cell_type": "code",
   "execution_count": 252,
   "metadata": {},
   "outputs": [
    {
     "data": {
      "application/vnd.plotly.v1+json": {
       "config": {
        "plotlyServerURL": "https://plot.ly"
       },
       "data": [
        {
         "alignmentgroup": "True",
         "hovertemplate": "ABC_category=A<br>category=%{x}<br>Products=%{y}<extra></extra>",
         "legendgroup": "A",
         "marker": {
          "color": "#F8766D",
          "pattern": {
           "shape": ""
          }
         },
         "name": "A",
         "offsetgroup": "A",
         "orientation": "v",
         "showlegend": true,
         "textposition": "auto",
         "texttemplate": "%{y}",
         "type": "bar",
         "x": [
          "jewelry",
          "office & school",
          "toys & edibles",
          "decoration",
          "home accessories"
         ],
         "xaxis": "x",
         "y": [
          0,
          1,
          3,
          7,
          7
         ],
         "yaxis": "y"
        },
        {
         "alignmentgroup": "True",
         "hovertemplate": "ABC_category=B<br>category=%{x}<br>Products=%{y}<extra></extra>",
         "legendgroup": "B",
         "marker": {
          "color": "#A3A500",
          "pattern": {
           "shape": ""
          }
         },
         "name": "B",
         "offsetgroup": "B",
         "orientation": "v",
         "showlegend": true,
         "textposition": "auto",
         "texttemplate": "%{y}",
         "type": "bar",
         "x": [
          "jewelry",
          "office & school",
          "toys & edibles",
          "decoration",
          "home accessories"
         ],
         "xaxis": "x",
         "y": [
          0,
          2,
          3,
          6,
          6
         ],
         "yaxis": "y"
        },
        {
         "alignmentgroup": "True",
         "hovertemplate": "ABC_category=C<br>category=%{x}<br>Products=%{y}<extra></extra>",
         "legendgroup": "C",
         "marker": {
          "color": "#00BF7D",
          "pattern": {
           "shape": ""
          }
         },
         "name": "C",
         "offsetgroup": "C",
         "orientation": "v",
         "showlegend": true,
         "textposition": "auto",
         "texttemplate": "%{y}",
         "type": "bar",
         "x": [
          "toys & edibles",
          "office & school",
          "decoration",
          "jewelry",
          "home accessories"
         ],
         "xaxis": "x",
         "y": [
          10,
          12,
          13,
          13,
          21
         ],
         "yaxis": "y"
        }
       ],
       "layout": {
        "barmode": "relative",
        "height": 600,
        "legend": {
         "title": {
          "text": "Product Category"
         },
         "tracegroupgap": 0
        },
        "template": {
         "data": {
          "bar": [
           {
            "error_x": {
             "color": "rgb(51,51,51)"
            },
            "error_y": {
             "color": "rgb(51,51,51)"
            },
            "marker": {
             "line": {
              "color": "rgb(237,237,237)",
              "width": 0.5
             },
             "pattern": {
              "fillmode": "overlay",
              "size": 10,
              "solidity": 0.2
             }
            },
            "type": "bar"
           }
          ],
          "barpolar": [
           {
            "marker": {
             "line": {
              "color": "rgb(237,237,237)",
              "width": 0.5
             },
             "pattern": {
              "fillmode": "overlay",
              "size": 10,
              "solidity": 0.2
             }
            },
            "type": "barpolar"
           }
          ],
          "carpet": [
           {
            "aaxis": {
             "endlinecolor": "rgb(51,51,51)",
             "gridcolor": "white",
             "linecolor": "white",
             "minorgridcolor": "white",
             "startlinecolor": "rgb(51,51,51)"
            },
            "baxis": {
             "endlinecolor": "rgb(51,51,51)",
             "gridcolor": "white",
             "linecolor": "white",
             "minorgridcolor": "white",
             "startlinecolor": "rgb(51,51,51)"
            },
            "type": "carpet"
           }
          ],
          "choropleth": [
           {
            "colorbar": {
             "outlinewidth": 0,
             "tickcolor": "rgb(237,237,237)",
             "ticklen": 6,
             "ticks": "inside"
            },
            "type": "choropleth"
           }
          ],
          "contour": [
           {
            "colorbar": {
             "outlinewidth": 0,
             "tickcolor": "rgb(237,237,237)",
             "ticklen": 6,
             "ticks": "inside"
            },
            "colorscale": [
             [
              0,
              "rgb(20,44,66)"
             ],
             [
              1,
              "rgb(90,179,244)"
             ]
            ],
            "type": "contour"
           }
          ],
          "contourcarpet": [
           {
            "colorbar": {
             "outlinewidth": 0,
             "tickcolor": "rgb(237,237,237)",
             "ticklen": 6,
             "ticks": "inside"
            },
            "type": "contourcarpet"
           }
          ],
          "heatmap": [
           {
            "colorbar": {
             "outlinewidth": 0,
             "tickcolor": "rgb(237,237,237)",
             "ticklen": 6,
             "ticks": "inside"
            },
            "colorscale": [
             [
              0,
              "rgb(20,44,66)"
             ],
             [
              1,
              "rgb(90,179,244)"
             ]
            ],
            "type": "heatmap"
           }
          ],
          "heatmapgl": [
           {
            "colorbar": {
             "outlinewidth": 0,
             "tickcolor": "rgb(237,237,237)",
             "ticklen": 6,
             "ticks": "inside"
            },
            "colorscale": [
             [
              0,
              "rgb(20,44,66)"
             ],
             [
              1,
              "rgb(90,179,244)"
             ]
            ],
            "type": "heatmapgl"
           }
          ],
          "histogram": [
           {
            "marker": {
             "pattern": {
              "fillmode": "overlay",
              "size": 10,
              "solidity": 0.2
             }
            },
            "type": "histogram"
           }
          ],
          "histogram2d": [
           {
            "colorbar": {
             "outlinewidth": 0,
             "tickcolor": "rgb(237,237,237)",
             "ticklen": 6,
             "ticks": "inside"
            },
            "colorscale": [
             [
              0,
              "rgb(20,44,66)"
             ],
             [
              1,
              "rgb(90,179,244)"
             ]
            ],
            "type": "histogram2d"
           }
          ],
          "histogram2dcontour": [
           {
            "colorbar": {
             "outlinewidth": 0,
             "tickcolor": "rgb(237,237,237)",
             "ticklen": 6,
             "ticks": "inside"
            },
            "colorscale": [
             [
              0,
              "rgb(20,44,66)"
             ],
             [
              1,
              "rgb(90,179,244)"
             ]
            ],
            "type": "histogram2dcontour"
           }
          ],
          "mesh3d": [
           {
            "colorbar": {
             "outlinewidth": 0,
             "tickcolor": "rgb(237,237,237)",
             "ticklen": 6,
             "ticks": "inside"
            },
            "type": "mesh3d"
           }
          ],
          "parcoords": [
           {
            "line": {
             "colorbar": {
              "outlinewidth": 0,
              "tickcolor": "rgb(237,237,237)",
              "ticklen": 6,
              "ticks": "inside"
             }
            },
            "type": "parcoords"
           }
          ],
          "pie": [
           {
            "automargin": true,
            "type": "pie"
           }
          ],
          "scatter": [
           {
            "fillpattern": {
             "fillmode": "overlay",
             "size": 10,
             "solidity": 0.2
            },
            "type": "scatter"
           }
          ],
          "scatter3d": [
           {
            "line": {
             "colorbar": {
              "outlinewidth": 0,
              "tickcolor": "rgb(237,237,237)",
              "ticklen": 6,
              "ticks": "inside"
             }
            },
            "marker": {
             "colorbar": {
              "outlinewidth": 0,
              "tickcolor": "rgb(237,237,237)",
              "ticklen": 6,
              "ticks": "inside"
             }
            },
            "type": "scatter3d"
           }
          ],
          "scattercarpet": [
           {
            "marker": {
             "colorbar": {
              "outlinewidth": 0,
              "tickcolor": "rgb(237,237,237)",
              "ticklen": 6,
              "ticks": "inside"
             }
            },
            "type": "scattercarpet"
           }
          ],
          "scattergeo": [
           {
            "marker": {
             "colorbar": {
              "outlinewidth": 0,
              "tickcolor": "rgb(237,237,237)",
              "ticklen": 6,
              "ticks": "inside"
             }
            },
            "type": "scattergeo"
           }
          ],
          "scattergl": [
           {
            "marker": {
             "colorbar": {
              "outlinewidth": 0,
              "tickcolor": "rgb(237,237,237)",
              "ticklen": 6,
              "ticks": "inside"
             }
            },
            "type": "scattergl"
           }
          ],
          "scattermapbox": [
           {
            "marker": {
             "colorbar": {
              "outlinewidth": 0,
              "tickcolor": "rgb(237,237,237)",
              "ticklen": 6,
              "ticks": "inside"
             }
            },
            "type": "scattermapbox"
           }
          ],
          "scatterpolar": [
           {
            "marker": {
             "colorbar": {
              "outlinewidth": 0,
              "tickcolor": "rgb(237,237,237)",
              "ticklen": 6,
              "ticks": "inside"
             }
            },
            "type": "scatterpolar"
           }
          ],
          "scatterpolargl": [
           {
            "marker": {
             "colorbar": {
              "outlinewidth": 0,
              "tickcolor": "rgb(237,237,237)",
              "ticklen": 6,
              "ticks": "inside"
             }
            },
            "type": "scatterpolargl"
           }
          ],
          "scatterternary": [
           {
            "marker": {
             "colorbar": {
              "outlinewidth": 0,
              "tickcolor": "rgb(237,237,237)",
              "ticklen": 6,
              "ticks": "inside"
             }
            },
            "type": "scatterternary"
           }
          ],
          "surface": [
           {
            "colorbar": {
             "outlinewidth": 0,
             "tickcolor": "rgb(237,237,237)",
             "ticklen": 6,
             "ticks": "inside"
            },
            "colorscale": [
             [
              0,
              "rgb(20,44,66)"
             ],
             [
              1,
              "rgb(90,179,244)"
             ]
            ],
            "type": "surface"
           }
          ],
          "table": [
           {
            "cells": {
             "fill": {
              "color": "rgb(237,237,237)"
             },
             "line": {
              "color": "white"
             }
            },
            "header": {
             "fill": {
              "color": "rgb(217,217,217)"
             },
             "line": {
              "color": "white"
             }
            },
            "type": "table"
           }
          ]
         },
         "layout": {
          "annotationdefaults": {
           "arrowhead": 0,
           "arrowwidth": 1
          },
          "autotypenumbers": "strict",
          "coloraxis": {
           "colorbar": {
            "outlinewidth": 0,
            "tickcolor": "rgb(237,237,237)",
            "ticklen": 6,
            "ticks": "inside"
           }
          },
          "colorscale": {
           "sequential": [
            [
             0,
             "rgb(20,44,66)"
            ],
            [
             1,
             "rgb(90,179,244)"
            ]
           ],
           "sequentialminus": [
            [
             0,
             "rgb(20,44,66)"
            ],
            [
             1,
             "rgb(90,179,244)"
            ]
           ]
          },
          "colorway": [
           "#F8766D",
           "#A3A500",
           "#00BF7D",
           "#00B0F6",
           "#E76BF3"
          ],
          "font": {
           "color": "rgb(51,51,51)"
          },
          "geo": {
           "bgcolor": "white",
           "lakecolor": "white",
           "landcolor": "rgb(237,237,237)",
           "showlakes": true,
           "showland": true,
           "subunitcolor": "white"
          },
          "hoverlabel": {
           "align": "left"
          },
          "hovermode": "closest",
          "paper_bgcolor": "white",
          "plot_bgcolor": "rgb(237,237,237)",
          "polar": {
           "angularaxis": {
            "gridcolor": "white",
            "linecolor": "white",
            "showgrid": true,
            "tickcolor": "rgb(51,51,51)",
            "ticks": "outside"
           },
           "bgcolor": "rgb(237,237,237)",
           "radialaxis": {
            "gridcolor": "white",
            "linecolor": "white",
            "showgrid": true,
            "tickcolor": "rgb(51,51,51)",
            "ticks": "outside"
           }
          },
          "scene": {
           "xaxis": {
            "backgroundcolor": "rgb(237,237,237)",
            "gridcolor": "white",
            "gridwidth": 2,
            "linecolor": "white",
            "showbackground": true,
            "showgrid": true,
            "tickcolor": "rgb(51,51,51)",
            "ticks": "outside",
            "zerolinecolor": "white"
           },
           "yaxis": {
            "backgroundcolor": "rgb(237,237,237)",
            "gridcolor": "white",
            "gridwidth": 2,
            "linecolor": "white",
            "showbackground": true,
            "showgrid": true,
            "tickcolor": "rgb(51,51,51)",
            "ticks": "outside",
            "zerolinecolor": "white"
           },
           "zaxis": {
            "backgroundcolor": "rgb(237,237,237)",
            "gridcolor": "white",
            "gridwidth": 2,
            "linecolor": "white",
            "showbackground": true,
            "showgrid": true,
            "tickcolor": "rgb(51,51,51)",
            "ticks": "outside",
            "zerolinecolor": "white"
           }
          },
          "shapedefaults": {
           "fillcolor": "black",
           "line": {
            "width": 0
           },
           "opacity": 0.3
          },
          "ternary": {
           "aaxis": {
            "gridcolor": "white",
            "linecolor": "white",
            "showgrid": true,
            "tickcolor": "rgb(51,51,51)",
            "ticks": "outside"
           },
           "baxis": {
            "gridcolor": "white",
            "linecolor": "white",
            "showgrid": true,
            "tickcolor": "rgb(51,51,51)",
            "ticks": "outside"
           },
           "bgcolor": "rgb(237,237,237)",
           "caxis": {
            "gridcolor": "white",
            "linecolor": "white",
            "showgrid": true,
            "tickcolor": "rgb(51,51,51)",
            "ticks": "outside"
           }
          },
          "xaxis": {
           "automargin": true,
           "gridcolor": "white",
           "linecolor": "white",
           "showgrid": true,
           "tickcolor": "rgb(51,51,51)",
           "ticks": "outside",
           "title": {
            "standoff": 15
           },
           "zerolinecolor": "white"
          },
          "yaxis": {
           "automargin": true,
           "gridcolor": "white",
           "linecolor": "white",
           "showgrid": true,
           "tickcolor": "rgb(51,51,51)",
           "ticks": "outside",
           "title": {
            "standoff": 15
           },
           "zerolinecolor": "white"
          }
         }
        },
        "title": {
         "text": "Items by ABC Category and Product Category"
        },
        "width": 800,
        "xaxis": {
         "anchor": "y",
         "domain": [
          0,
          1
         ],
         "title": {
          "text": "Product Category"
         }
        },
        "yaxis": {
         "anchor": "x",
         "domain": [
          0,
          1
         ],
         "title": {}
        }
       }
      }
     },
     "metadata": {},
     "output_type": "display_data"
    }
   ],
   "source": [
    "# Items by ABC Category and Product Category bar chart\n",
    "\n",
    "items_by_abc = abc_analysis.groupby([\"category\", \"ABC_category\"]).agg(Products=(\"SKU-ID\", \"count\")).reset_index()\n",
    "\n",
    "fig = px.bar(\n",
    "    items_by_abc.sort_values(\"Products\"),\n",
    "    x=\"category\",\n",
    "    y=\"Products\",\n",
    "    color=\"ABC_category\",\n",
    "    title=\"Items by ABC Category and Product Category\",\n",
    "    text_auto=True,\n",
    "    width=800, height=600\n",
    ")\n",
    "\n",
    "fig.update_layout(yaxis_title=None)\n",
    "fig.update_layout(xaxis_title=\"Product Category\")\n",
    "fig.update_layout(legend_title_text=\"Product Category\")\n",
    "fig.show()"
   ]
  },
  {
   "cell_type": "markdown",
   "metadata": {},
   "source": [
    "## Part 3 - Preparing tables for Report"
   ]
  },
  {
   "cell_type": "markdown",
   "metadata": {},
   "source": [
    "### Product analysis"
   ]
  },
  {
   "cell_type": "markdown",
   "metadata": {},
   "source": [
    "### Turn over rate by month"
   ]
  },
  {
   "cell_type": "code",
   "execution_count": 92,
   "metadata": {},
   "outputs": [],
   "source": [
    "# month sales for each product\n",
    "\n",
    "monthly_sales = (\n",
    "    orders[orders[\"InvoiceDate\"].dt.year == 2021]\n",
    "    .groupby([\"SKU\", orders[\"InvoiceDate\"].dt.month.rename(\"Month\")])\n",
    "    [\"Quantity\"].sum()\n",
    "    .to_frame(\"units_sold\").reset_index()\n",
    ")"
   ]
  },
  {
   "cell_type": "code",
   "execution_count": 93,
   "metadata": {},
   "outputs": [],
   "source": [
    "# all months mini-table (cross join)\n",
    "\n",
    "month_data= pd.DataFrame({'Month': [1, 2, 3, 4, 5, 6, 7, 8, 9, 10, 11, 12]})\n",
    "SKU_data = pd.DataFrame(list(monthly_sales[\"SKU\"].unique()))\n",
    "\n",
    "months = pd.merge(month_data, SKU_data, how=\"cross\").rename(columns={0 : \"SKU\"})"
   ]
  },
  {
   "cell_type": "code",
   "execution_count": 94,
   "metadata": {},
   "outputs": [
    {
     "data": {
      "text/html": [
       "<div>\n",
       "<style scoped>\n",
       "    .dataframe tbody tr th:only-of-type {\n",
       "        vertical-align: middle;\n",
       "    }\n",
       "\n",
       "    .dataframe tbody tr th {\n",
       "        vertical-align: top;\n",
       "    }\n",
       "\n",
       "    .dataframe thead th {\n",
       "        text-align: right;\n",
       "    }\n",
       "</style>\n",
       "<table border=\"1\" class=\"dataframe\">\n",
       "  <thead>\n",
       "    <tr style=\"text-align: right;\">\n",
       "      <th></th>\n",
       "      <th>Month</th>\n",
       "      <th>SKU</th>\n",
       "      <th>units_sold</th>\n",
       "    </tr>\n",
       "  </thead>\n",
       "  <tbody>\n",
       "    <tr>\n",
       "      <th>0</th>\n",
       "      <td>1</td>\n",
       "      <td>10125</td>\n",
       "      <td>211.0</td>\n",
       "    </tr>\n",
       "    <tr>\n",
       "      <th>106</th>\n",
       "      <td>2</td>\n",
       "      <td>10125</td>\n",
       "      <td>9.0</td>\n",
       "    </tr>\n",
       "    <tr>\n",
       "      <th>212</th>\n",
       "      <td>3</td>\n",
       "      <td>10125</td>\n",
       "      <td>23.0</td>\n",
       "    </tr>\n",
       "    <tr>\n",
       "      <th>318</th>\n",
       "      <td>4</td>\n",
       "      <td>10125</td>\n",
       "      <td>152.0</td>\n",
       "    </tr>\n",
       "    <tr>\n",
       "      <th>424</th>\n",
       "      <td>5</td>\n",
       "      <td>10125</td>\n",
       "      <td>127.0</td>\n",
       "    </tr>\n",
       "  </tbody>\n",
       "</table>\n",
       "</div>"
      ],
      "text/plain": [
       "     Month    SKU  units_sold\n",
       "0        1  10125       211.0\n",
       "106      2  10125         9.0\n",
       "212      3  10125        23.0\n",
       "318      4  10125       152.0\n",
       "424      5  10125       127.0"
      ]
     },
     "execution_count": 94,
     "metadata": {},
     "output_type": "execute_result"
    }
   ],
   "source": [
    "monthly_sales = (\n",
    "    pd.merge(months, monthly_sales, on=[\"Month\", \"SKU\"], how=\"left\")\n",
    "    .fillna({\"units_sold\" : 0})\n",
    "    .sort_values([\"SKU\", \"Month\"], ascending=True)\n",
    ")\n",
    "\n",
    "monthly_sales.head()"
   ]
  },
  {
   "cell_type": "code",
   "execution_count": 95,
   "metadata": {},
   "outputs": [],
   "source": [
    "turnover = (\n",
    "    pd.merge(products, monthly_sales, left_on=\"SKU-ID\", right_on=\"SKU\", how=\"left\")\n",
    "    .merge(abc_analysis[[\"SKU-ID\", \"ABC_category\"]], on=\"SKU-ID\", how=\"left\")\n",
    "    .drop(columns=[\"2020_units_sold\", \"Revenue_2020\", \"Profit_2020\", \"Pct_revenue_2020\", \"SKU\"])\n",
    "    .sort_values([\"SKU-ID\", \"Month\"], ascending=True)\n",
    ")"
   ]
  },
  {
   "cell_type": "code",
   "execution_count": 96,
   "metadata": {},
   "outputs": [
    {
     "data": {
      "text/html": [
       "<div>\n",
       "<style scoped>\n",
       "    .dataframe tbody tr th:only-of-type {\n",
       "        vertical-align: middle;\n",
       "    }\n",
       "\n",
       "    .dataframe tbody tr th {\n",
       "        vertical-align: top;\n",
       "    }\n",
       "\n",
       "    .dataframe thead th {\n",
       "        text-align: right;\n",
       "    }\n",
       "</style>\n",
       "<table border=\"1\" class=\"dataframe\">\n",
       "  <thead>\n",
       "    <tr style=\"text-align: right;\">\n",
       "      <th></th>\n",
       "      <th>SKU-ID</th>\n",
       "      <th>Description</th>\n",
       "      <th>category</th>\n",
       "      <th>2021_start_stock</th>\n",
       "      <th>Retail_Price</th>\n",
       "      <th>COGS</th>\n",
       "      <th>COGS_2020</th>\n",
       "      <th>Month</th>\n",
       "      <th>units_sold</th>\n",
       "      <th>ABC_category</th>\n",
       "      <th>Accumulated_units</th>\n",
       "      <th>end_stock</th>\n",
       "      <th>Avg_inventory</th>\n",
       "      <th>Inventory_turnover</th>\n",
       "    </tr>\n",
       "  </thead>\n",
       "  <tbody>\n",
       "    <tr>\n",
       "      <th>613</th>\n",
       "      <td>10125</td>\n",
       "      <td>Mini Tapes</td>\n",
       "      <td>office &amp; school</td>\n",
       "      <td>1356</td>\n",
       "      <td>1.9</td>\n",
       "      <td>0.84</td>\n",
       "      <td>934.08</td>\n",
       "      <td>1.0</td>\n",
       "      <td>211.0</td>\n",
       "      <td>C</td>\n",
       "      <td>211.0</td>\n",
       "      <td>1145.0</td>\n",
       "      <td>1050.42</td>\n",
       "      <td>0.17</td>\n",
       "    </tr>\n",
       "    <tr>\n",
       "      <th>614</th>\n",
       "      <td>10125</td>\n",
       "      <td>Mini Tapes</td>\n",
       "      <td>office &amp; school</td>\n",
       "      <td>1356</td>\n",
       "      <td>1.9</td>\n",
       "      <td>0.84</td>\n",
       "      <td>934.08</td>\n",
       "      <td>2.0</td>\n",
       "      <td>9.0</td>\n",
       "      <td>C</td>\n",
       "      <td>220.0</td>\n",
       "      <td>1136.0</td>\n",
       "      <td>1046.64</td>\n",
       "      <td>0.01</td>\n",
       "    </tr>\n",
       "    <tr>\n",
       "      <th>615</th>\n",
       "      <td>10125</td>\n",
       "      <td>Mini Tapes</td>\n",
       "      <td>office &amp; school</td>\n",
       "      <td>1356</td>\n",
       "      <td>1.9</td>\n",
       "      <td>0.84</td>\n",
       "      <td>934.08</td>\n",
       "      <td>3.0</td>\n",
       "      <td>23.0</td>\n",
       "      <td>C</td>\n",
       "      <td>243.0</td>\n",
       "      <td>1113.0</td>\n",
       "      <td>1036.98</td>\n",
       "      <td>0.02</td>\n",
       "    </tr>\n",
       "    <tr>\n",
       "      <th>616</th>\n",
       "      <td>10125</td>\n",
       "      <td>Mini Tapes</td>\n",
       "      <td>office &amp; school</td>\n",
       "      <td>1356</td>\n",
       "      <td>1.9</td>\n",
       "      <td>0.84</td>\n",
       "      <td>934.08</td>\n",
       "      <td>4.0</td>\n",
       "      <td>152.0</td>\n",
       "      <td>C</td>\n",
       "      <td>395.0</td>\n",
       "      <td>961.0</td>\n",
       "      <td>973.14</td>\n",
       "      <td>0.13</td>\n",
       "    </tr>\n",
       "    <tr>\n",
       "      <th>617</th>\n",
       "      <td>10125</td>\n",
       "      <td>Mini Tapes</td>\n",
       "      <td>office &amp; school</td>\n",
       "      <td>1356</td>\n",
       "      <td>1.9</td>\n",
       "      <td>0.84</td>\n",
       "      <td>934.08</td>\n",
       "      <td>5.0</td>\n",
       "      <td>127.0</td>\n",
       "      <td>C</td>\n",
       "      <td>522.0</td>\n",
       "      <td>834.0</td>\n",
       "      <td>919.80</td>\n",
       "      <td>0.12</td>\n",
       "    </tr>\n",
       "  </tbody>\n",
       "</table>\n",
       "</div>"
      ],
      "text/plain": [
       "    SKU-ID Description         category  2021_start_stock  Retail_Price  COGS  \\\n",
       "613  10125  Mini Tapes  office & school              1356           1.9  0.84   \n",
       "614  10125  Mini Tapes  office & school              1356           1.9  0.84   \n",
       "615  10125  Mini Tapes  office & school              1356           1.9  0.84   \n",
       "616  10125  Mini Tapes  office & school              1356           1.9  0.84   \n",
       "617  10125  Mini Tapes  office & school              1356           1.9  0.84   \n",
       "\n",
       "     COGS_2020  Month  units_sold ABC_category  Accumulated_units  end_stock  \\\n",
       "613     934.08    1.0       211.0            C              211.0     1145.0   \n",
       "614     934.08    2.0         9.0            C              220.0     1136.0   \n",
       "615     934.08    3.0        23.0            C              243.0     1113.0   \n",
       "616     934.08    4.0       152.0            C              395.0      961.0   \n",
       "617     934.08    5.0       127.0            C              522.0      834.0   \n",
       "\n",
       "     Avg_inventory  Inventory_turnover  \n",
       "613        1050.42                0.17  \n",
       "614        1046.64                0.01  \n",
       "615        1036.98                0.02  \n",
       "616         973.14                0.13  \n",
       "617         919.80                0.12  "
      ]
     },
     "execution_count": 96,
     "metadata": {},
     "output_type": "execute_result"
    }
   ],
   "source": [
    "# monthly inventory turnover rate\n",
    "\n",
    "turnover[\"Accumulated_units\"] = turnover.groupby(\"SKU-ID\")[\"units_sold\"].transform(\"cumsum\")\n",
    "turnover[\"end_stock\"] = turnover[\"2021_start_stock\"] - turnover[\"Accumulated_units\"]\n",
    "turnover[\"Avg_inventory\"] = ((turnover[\"2021_start_stock\"] + turnover[\"end_stock\"]) * turnover[\"COGS\"] / 2).round(2)\n",
    "turnover[\"Inventory_turnover\"] = ((turnover[\"units_sold\"] * turnover[\"COGS\"]) / turnover[\"Avg_inventory\"]).round(2)\n",
    "\n",
    "turnover.head()"
   ]
  },
  {
   "cell_type": "markdown",
   "metadata": {},
   "source": [
    "### Yearly turnover rate"
   ]
  },
  {
   "cell_type": "code",
   "execution_count": 97,
   "metadata": {},
   "outputs": [
    {
     "data": {
      "text/html": [
       "<div>\n",
       "<style scoped>\n",
       "    .dataframe tbody tr th:only-of-type {\n",
       "        vertical-align: middle;\n",
       "    }\n",
       "\n",
       "    .dataframe tbody tr th {\n",
       "        vertical-align: top;\n",
       "    }\n",
       "\n",
       "    .dataframe thead th {\n",
       "        text-align: right;\n",
       "    }\n",
       "</style>\n",
       "<table border=\"1\" class=\"dataframe\">\n",
       "  <thead>\n",
       "    <tr style=\"text-align: right;\">\n",
       "      <th></th>\n",
       "      <th>SKU-ID</th>\n",
       "      <th>Description</th>\n",
       "      <th>category</th>\n",
       "      <th>Retail_Price</th>\n",
       "      <th>COGS</th>\n",
       "      <th>2021_units_sold</th>\n",
       "      <th>Revenue_2021</th>\n",
       "      <th>Pct_revenue_2021</th>\n",
       "      <th>Inventory_turnover</th>\n",
       "      <th>ABC_category</th>\n",
       "      <th>Rank</th>\n",
       "    </tr>\n",
       "  </thead>\n",
       "  <tbody>\n",
       "    <tr>\n",
       "      <th>0</th>\n",
       "      <td>82486</td>\n",
       "      <td>3 Drawer Antique White Wood Cabinet</td>\n",
       "      <td>decoration</td>\n",
       "      <td>13.32</td>\n",
       "      <td>8.95</td>\n",
       "      <td>742.0</td>\n",
       "      <td>9883.44</td>\n",
       "      <td>2.22</td>\n",
       "      <td>1.36</td>\n",
       "      <td>A</td>\n",
       "      <td>17</td>\n",
       "    </tr>\n",
       "    <tr>\n",
       "      <th>1</th>\n",
       "      <td>23435</td>\n",
       "      <td>3 Raffia Ribbons Vintage Christmas</td>\n",
       "      <td>decoration</td>\n",
       "      <td>1.88</td>\n",
       "      <td>0.83</td>\n",
       "      <td>827.0</td>\n",
       "      <td>1554.76</td>\n",
       "      <td>0.35</td>\n",
       "      <td>1.33</td>\n",
       "      <td>C</td>\n",
       "      <td>45</td>\n",
       "    </tr>\n",
       "    <tr>\n",
       "      <th>2</th>\n",
       "      <td>85034B</td>\n",
       "      <td>3 White Choc Morris Boxed Candles</td>\n",
       "      <td>decoration</td>\n",
       "      <td>2.47</td>\n",
       "      <td>1.26</td>\n",
       "      <td>888.0</td>\n",
       "      <td>2193.36</td>\n",
       "      <td>0.49</td>\n",
       "      <td>1.27</td>\n",
       "      <td>C</td>\n",
       "      <td>41</td>\n",
       "    </tr>\n",
       "    <tr>\n",
       "      <th>3</th>\n",
       "      <td>84559A</td>\n",
       "      <td>3D Sheet Of Dog Stickers</td>\n",
       "      <td>toys &amp; edibles</td>\n",
       "      <td>1.90</td>\n",
       "      <td>0.85</td>\n",
       "      <td>357.0</td>\n",
       "      <td>678.30</td>\n",
       "      <td>0.15</td>\n",
       "      <td>0.81</td>\n",
       "      <td>C</td>\n",
       "      <td>60</td>\n",
       "    </tr>\n",
       "    <tr>\n",
       "      <th>4</th>\n",
       "      <td>23697</td>\n",
       "      <td>A Pretty Thank You Card</td>\n",
       "      <td>office &amp; school</td>\n",
       "      <td>1.30</td>\n",
       "      <td>0.42</td>\n",
       "      <td>456.0</td>\n",
       "      <td>592.80</td>\n",
       "      <td>0.13</td>\n",
       "      <td>1.51</td>\n",
       "      <td>C</td>\n",
       "      <td>63</td>\n",
       "    </tr>\n",
       "  </tbody>\n",
       "</table>\n",
       "</div>"
      ],
      "text/plain": [
       "   SKU-ID                          Description         category  Retail_Price  \\\n",
       "0   82486  3 Drawer Antique White Wood Cabinet       decoration         13.32   \n",
       "1   23435   3 Raffia Ribbons Vintage Christmas       decoration          1.88   \n",
       "2  85034B    3 White Choc Morris Boxed Candles       decoration          2.47   \n",
       "3  84559A             3D Sheet Of Dog Stickers   toys & edibles          1.90   \n",
       "4   23697              A Pretty Thank You Card  office & school          1.30   \n",
       "\n",
       "   COGS  2021_units_sold  Revenue_2021  Pct_revenue_2021  Inventory_turnover  \\\n",
       "0  8.95            742.0       9883.44              2.22                1.36   \n",
       "1  0.83            827.0       1554.76              0.35                1.33   \n",
       "2  1.26            888.0       2193.36              0.49                1.27   \n",
       "3  0.85            357.0        678.30              0.15                0.81   \n",
       "4  0.42            456.0        592.80              0.13                1.51   \n",
       "\n",
       "  ABC_category  Rank  \n",
       "0            A    17  \n",
       "1            C    45  \n",
       "2            C    41  \n",
       "3            C    60  \n",
       "4            C    63  "
      ]
     },
     "execution_count": 97,
     "metadata": {},
     "output_type": "execute_result"
    }
   ],
   "source": [
    "categories_and_products = (\n",
    "    pd.merge(products_sales, abc_analysis, on=\"SKU-ID\", how=\"left\")\n",
    "    [[\"SKU-ID\", \"Description_x\", \"category_x\", \"Retail_Price\", \"COGS\", \"2021_units_sold\", \"Revenue_2021_x\", \"Pct_revenue_2021_x\", \"Inventory_turnover\", \"ABC_category\", \"Rank\"]]\n",
    "    .rename(columns={\"Description_x\" : \"Description\", \"category_x\" : \"category\", \"Revenue_2021_x\" : \"Revenue_2021\", \"Pct_revenue_2021_x\" : \"Pct_revenue_2021\",})\n",
    ")\n",
    "\n",
    "categories_and_products.head()"
   ]
  },
  {
   "cell_type": "markdown",
   "metadata": {},
   "source": [
    "### Year overview"
   ]
  },
  {
   "cell_type": "markdown",
   "metadata": {},
   "source": [
    "### Years comparison"
   ]
  },
  {
   "cell_type": "code",
   "execution_count": 98,
   "metadata": {},
   "outputs": [
    {
     "data": {
      "text/html": [
       "<div>\n",
       "<style scoped>\n",
       "    .dataframe tbody tr th:only-of-type {\n",
       "        vertical-align: middle;\n",
       "    }\n",
       "\n",
       "    .dataframe tbody tr th {\n",
       "        vertical-align: top;\n",
       "    }\n",
       "\n",
       "    .dataframe thead th {\n",
       "        text-align: right;\n",
       "    }\n",
       "</style>\n",
       "<table border=\"1\" class=\"dataframe\">\n",
       "  <thead>\n",
       "    <tr style=\"text-align: right;\">\n",
       "      <th></th>\n",
       "      <th>SKU-ID</th>\n",
       "      <th>Retail_Price</th>\n",
       "      <th>COGS</th>\n",
       "      <th>2020_units_sold</th>\n",
       "      <th>Revenue_2020</th>\n",
       "      <th>Profit_2020</th>\n",
       "      <th>Pct_revenue_2020</th>\n",
       "      <th>2021_units_sold</th>\n",
       "      <th>Revenue_2021</th>\n",
       "      <th>Pct_revenue_2021</th>\n",
       "    </tr>\n",
       "  </thead>\n",
       "  <tbody>\n",
       "    <tr>\n",
       "      <th>0</th>\n",
       "      <td>82486</td>\n",
       "      <td>13.32</td>\n",
       "      <td>8.95</td>\n",
       "      <td>440</td>\n",
       "      <td>5860.80</td>\n",
       "      <td>1922.80</td>\n",
       "      <td>0.98</td>\n",
       "      <td>742.0</td>\n",
       "      <td>9883.44</td>\n",
       "      <td>2.22</td>\n",
       "    </tr>\n",
       "    <tr>\n",
       "      <th>1</th>\n",
       "      <td>23435</td>\n",
       "      <td>1.88</td>\n",
       "      <td>0.83</td>\n",
       "      <td>692</td>\n",
       "      <td>1300.96</td>\n",
       "      <td>726.60</td>\n",
       "      <td>0.22</td>\n",
       "      <td>827.0</td>\n",
       "      <td>1554.76</td>\n",
       "      <td>0.35</td>\n",
       "    </tr>\n",
       "    <tr>\n",
       "      <th>2</th>\n",
       "      <td>85034B</td>\n",
       "      <td>2.47</td>\n",
       "      <td>1.26</td>\n",
       "      <td>1610</td>\n",
       "      <td>3976.70</td>\n",
       "      <td>1948.10</td>\n",
       "      <td>0.66</td>\n",
       "      <td>888.0</td>\n",
       "      <td>2193.36</td>\n",
       "      <td>0.49</td>\n",
       "    </tr>\n",
       "    <tr>\n",
       "      <th>3</th>\n",
       "      <td>84559A</td>\n",
       "      <td>1.90</td>\n",
       "      <td>0.85</td>\n",
       "      <td>918</td>\n",
       "      <td>1744.20</td>\n",
       "      <td>963.90</td>\n",
       "      <td>0.29</td>\n",
       "      <td>357.0</td>\n",
       "      <td>678.30</td>\n",
       "      <td>0.15</td>\n",
       "    </tr>\n",
       "    <tr>\n",
       "      <th>4</th>\n",
       "      <td>23697</td>\n",
       "      <td>1.30</td>\n",
       "      <td>0.42</td>\n",
       "      <td>557</td>\n",
       "      <td>724.10</td>\n",
       "      <td>490.16</td>\n",
       "      <td>0.12</td>\n",
       "      <td>456.0</td>\n",
       "      <td>592.80</td>\n",
       "      <td>0.13</td>\n",
       "    </tr>\n",
       "  </tbody>\n",
       "</table>\n",
       "</div>"
      ],
      "text/plain": [
       "   SKU-ID  Retail_Price  COGS  2020_units_sold  Revenue_2020  Profit_2020  \\\n",
       "0   82486         13.32  8.95              440       5860.80      1922.80   \n",
       "1   23435          1.88  0.83              692       1300.96       726.60   \n",
       "2  85034B          2.47  1.26             1610       3976.70      1948.10   \n",
       "3  84559A          1.90  0.85              918       1744.20       963.90   \n",
       "4   23697          1.30  0.42              557        724.10       490.16   \n",
       "\n",
       "   Pct_revenue_2020  2021_units_sold  Revenue_2021  Pct_revenue_2021  \n",
       "0              0.98            742.0       9883.44              2.22  \n",
       "1              0.22            827.0       1554.76              0.35  \n",
       "2              0.66            888.0       2193.36              0.49  \n",
       "3              0.29            357.0        678.30              0.15  \n",
       "4              0.12            456.0        592.80              0.13  "
      ]
     },
     "execution_count": 98,
     "metadata": {},
     "output_type": "execute_result"
    }
   ],
   "source": [
    "years_comparison = products_sales.loc[:, [\"SKU-ID\", \"Retail_Price\", \"COGS\", \"2020_units_sold\", \"Revenue_2020\", \"Profit_2020\", \"Pct_revenue_2020\", \"2021_units_sold\", \"Revenue_2021\", \"Pct_revenue_2021\"]]\n",
    "years_comparison.head()"
   ]
  },
  {
   "cell_type": "markdown",
   "metadata": {},
   "source": [
    "### Regions distribution"
   ]
  },
  {
   "cell_type": "code",
   "execution_count": 99,
   "metadata": {},
   "outputs": [
    {
     "data": {
      "text/html": [
       "<div>\n",
       "<style scoped>\n",
       "    .dataframe tbody tr th:only-of-type {\n",
       "        vertical-align: middle;\n",
       "    }\n",
       "\n",
       "    .dataframe tbody tr th {\n",
       "        vertical-align: top;\n",
       "    }\n",
       "\n",
       "    .dataframe thead th {\n",
       "        text-align: right;\n",
       "    }\n",
       "</style>\n",
       "<table border=\"1\" class=\"dataframe\">\n",
       "  <thead>\n",
       "    <tr style=\"text-align: right;\">\n",
       "      <th></th>\n",
       "      <th>SKU</th>\n",
       "      <th>Country</th>\n",
       "      <th>2021_units_sold</th>\n",
       "    </tr>\n",
       "  </thead>\n",
       "  <tbody>\n",
       "    <tr>\n",
       "      <th>0</th>\n",
       "      <td>10125</td>\n",
       "      <td>Australia</td>\n",
       "      <td>21</td>\n",
       "    </tr>\n",
       "    <tr>\n",
       "      <th>1</th>\n",
       "      <td>10125</td>\n",
       "      <td>Austria</td>\n",
       "      <td>20</td>\n",
       "    </tr>\n",
       "    <tr>\n",
       "      <th>2</th>\n",
       "      <td>10125</td>\n",
       "      <td>Belgium</td>\n",
       "      <td>23</td>\n",
       "    </tr>\n",
       "    <tr>\n",
       "      <th>3</th>\n",
       "      <td>10125</td>\n",
       "      <td>Cyprus</td>\n",
       "      <td>13</td>\n",
       "    </tr>\n",
       "    <tr>\n",
       "      <th>4</th>\n",
       "      <td>10125</td>\n",
       "      <td>Denmark</td>\n",
       "      <td>100</td>\n",
       "    </tr>\n",
       "  </tbody>\n",
       "</table>\n",
       "</div>"
      ],
      "text/plain": [
       "     SKU    Country  2021_units_sold\n",
       "0  10125  Australia               21\n",
       "1  10125    Austria               20\n",
       "2  10125    Belgium               23\n",
       "3  10125     Cyprus               13\n",
       "4  10125    Denmark              100"
      ]
     },
     "execution_count": 99,
     "metadata": {},
     "output_type": "execute_result"
    }
   ],
   "source": [
    "sales_by_country = (\n",
    "    orders[orders[\"InvoiceDate\"].dt.year == 2021]\n",
    "    .groupby([\"SKU\", \"Country\"])\n",
    "    [\"Quantity\"].sum()\n",
    "    .to_frame(\"2021_units_sold\").reset_index()\n",
    ")\n",
    "\n",
    "sales_by_country.head()"
   ]
  },
  {
   "cell_type": "code",
   "execution_count": 109,
   "metadata": {},
   "outputs": [
    {
     "data": {
      "text/html": [
       "<div>\n",
       "<style scoped>\n",
       "    .dataframe tbody tr th:only-of-type {\n",
       "        vertical-align: middle;\n",
       "    }\n",
       "\n",
       "    .dataframe tbody tr th {\n",
       "        vertical-align: top;\n",
       "    }\n",
       "\n",
       "    .dataframe thead th {\n",
       "        text-align: right;\n",
       "    }\n",
       "</style>\n",
       "<table border=\"1\" class=\"dataframe\">\n",
       "  <thead>\n",
       "    <tr style=\"text-align: right;\">\n",
       "      <th></th>\n",
       "      <th>SKU-ID</th>\n",
       "      <th>Description_x</th>\n",
       "      <th>category</th>\n",
       "      <th>Retail_Price</th>\n",
       "      <th>COGS</th>\n",
       "      <th>Country</th>\n",
       "      <th>2021_units_sold</th>\n",
       "      <th>ABC_category</th>\n",
       "    </tr>\n",
       "  </thead>\n",
       "  <tbody>\n",
       "    <tr>\n",
       "      <th>0</th>\n",
       "      <td>82486</td>\n",
       "      <td>3 Drawer Antique White Wood Cabinet</td>\n",
       "      <td>decoration</td>\n",
       "      <td>13.32</td>\n",
       "      <td>8.95</td>\n",
       "      <td>Australia</td>\n",
       "      <td>51.0</td>\n",
       "      <td>A</td>\n",
       "    </tr>\n",
       "    <tr>\n",
       "      <th>1</th>\n",
       "      <td>82486</td>\n",
       "      <td>3 Drawer Antique White Wood Cabinet</td>\n",
       "      <td>decoration</td>\n",
       "      <td>13.32</td>\n",
       "      <td>8.95</td>\n",
       "      <td>Belgium</td>\n",
       "      <td>39.0</td>\n",
       "      <td>A</td>\n",
       "    </tr>\n",
       "    <tr>\n",
       "      <th>2</th>\n",
       "      <td>82486</td>\n",
       "      <td>3 Drawer Antique White Wood Cabinet</td>\n",
       "      <td>decoration</td>\n",
       "      <td>13.32</td>\n",
       "      <td>8.95</td>\n",
       "      <td>Canada</td>\n",
       "      <td>5.0</td>\n",
       "      <td>A</td>\n",
       "    </tr>\n",
       "    <tr>\n",
       "      <th>3</th>\n",
       "      <td>82486</td>\n",
       "      <td>3 Drawer Antique White Wood Cabinet</td>\n",
       "      <td>decoration</td>\n",
       "      <td>13.32</td>\n",
       "      <td>8.95</td>\n",
       "      <td>Cyprus</td>\n",
       "      <td>18.0</td>\n",
       "      <td>A</td>\n",
       "    </tr>\n",
       "    <tr>\n",
       "      <th>4</th>\n",
       "      <td>82486</td>\n",
       "      <td>3 Drawer Antique White Wood Cabinet</td>\n",
       "      <td>decoration</td>\n",
       "      <td>13.32</td>\n",
       "      <td>8.95</td>\n",
       "      <td>Denmark</td>\n",
       "      <td>96.0</td>\n",
       "      <td>A</td>\n",
       "    </tr>\n",
       "  </tbody>\n",
       "</table>\n",
       "</div>"
      ],
      "text/plain": [
       "  SKU-ID                        Description_x    category  Retail_Price  COGS  \\\n",
       "0  82486  3 Drawer Antique White Wood Cabinet  decoration         13.32  8.95   \n",
       "1  82486  3 Drawer Antique White Wood Cabinet  decoration         13.32  8.95   \n",
       "2  82486  3 Drawer Antique White Wood Cabinet  decoration         13.32  8.95   \n",
       "3  82486  3 Drawer Antique White Wood Cabinet  decoration         13.32  8.95   \n",
       "4  82486  3 Drawer Antique White Wood Cabinet  decoration         13.32  8.95   \n",
       "\n",
       "     Country  2021_units_sold ABC_category  \n",
       "0  Australia             51.0            A  \n",
       "1    Belgium             39.0            A  \n",
       "2     Canada              5.0            A  \n",
       "3     Cyprus             18.0            A  \n",
       "4    Denmark             96.0            A  "
      ]
     },
     "execution_count": 109,
     "metadata": {},
     "output_type": "execute_result"
    }
   ],
   "source": [
    "product_sales_by_country = (\n",
    "    pd.merge(products, sales_by_country, left_on=\"SKU-ID\", right_on=\"SKU\", how=\"left\")\n",
    "    .merge(abc_analysis, on=\"SKU-ID\", how=\"left\")\n",
    "    .drop(columns=[\"SKU\", \"2020_units_sold\", \"2021_start_stock\", \"Revenue_2020\", \"COGS_2020\", \"Profit_2020\", \"Pct_revenue_2020\", \"category_y\", \"Description_y\", \"Accumulated_revenue_pct\", \"Rank\", \"Pct_revenue_2021\", \"Revenue_2021\"])\n",
    "    .rename(columns={\"category_x\" : \"category\"})\n",
    ")\n",
    "\n",
    "product_sales_by_country.head()"
   ]
  },
  {
   "cell_type": "markdown",
   "metadata": {},
   "source": [
    "### Export tables fpr report "
   ]
  },
  {
   "cell_type": "code",
   "execution_count": null,
   "metadata": {},
   "outputs": [],
   "source": []
  },
  {
   "cell_type": "code",
   "execution_count": null,
   "metadata": {},
   "outputs": [],
   "source": []
  },
  {
   "cell_type": "code",
   "execution_count": null,
   "metadata": {},
   "outputs": [],
   "source": []
  },
  {
   "cell_type": "code",
   "execution_count": null,
   "metadata": {},
   "outputs": [],
   "source": []
  }
 ],
 "metadata": {
  "kernelspec": {
   "display_name": "base",
   "language": "python",
   "name": "python3"
  },
  "language_info": {
   "codemirror_mode": {
    "name": "ipython",
    "version": 3
   },
   "file_extension": ".py",
   "mimetype": "text/x-python",
   "name": "python",
   "nbconvert_exporter": "python",
   "pygments_lexer": "ipython3",
   "version": "3.11.5"
  }
 },
 "nbformat": 4,
 "nbformat_minor": 2
}
