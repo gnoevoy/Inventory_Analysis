{
 "cells": [
  {
   "cell_type": "markdown",
   "metadata": {},
   "source": [
    "<br><br>\n",
    "<br><br>\n",
    "<br><br>\n",
    "# **Inventory Management Analysis Overview**\n",
    "\n",
    "This analysis delivers key insights for inventory management, enhanced with graphs and visuals for clarity.\n",
    "The document is structured for ease of reading, however analysis was conducted in a dynamic, non-linear fashion."
   ]
  },
  {
   "cell_type": "markdown",
   "metadata": {},
   "source": [
    "#### **Document Structure:**\n",
    "1. **Data Preparation:** Loading libraries, datasets, and initial data cleaning for analysis groundwork.\n",
    "2. **Preliminary Results:** Creating essential tables and calculations.\n",
    "3. **Report Preparation:** Preparing data for Power BI, focusing on actionable insights \n",
    "<br><br>\n",
    "<br><br>\n",
    "<br><br>\n",
    "<br><br>\n",
    "> # **This is a blockquote.**\n",
    "This analysis delivers key insights for inventory management, enhanced with graphs and visuals for clarity.\n",
    "The document is structured for ease of reading, however analysis was conducted in a dynamic, non-linear fashion."
   ]
  },
  {
   "cell_type": "code",
   "execution_count": 1,
   "metadata": {},
   "outputs": [],
   "source": [
    "import pandas as pd\n",
    "import numpy as np\n",
    "\n",
    "import plotly.graph_objects as go\n",
    "import plotly.express as px\n",
    "import plotly.io as pio\n",
    "\n",
    "pio.templates.default = \"ggplot2\"\n",
    "### Dataset\n",
    "excel_file = r\"..\\..\\Portfolio Projects\\Inventory Management\\Datasets\\WarmeHands - data.xlsx\"\n",
    "\n",
    "stock = pd.read_excel(excel_file, sheet_name=\"Stock\")\n",
    "orders = pd.read_excel(excel_file, sheet_name=\"Orders\")\n",
    "price = pd.read_excel(excel_file, sheet_name=\"Price\")\n",
    "costs = pd.read_excel(excel_file, sheet_name=\"Costs\")\n",
    "\n",
    "categories = pd.read_csv(r\"..\\..\\Portfolio Projects\\Inventory Management\\Datasets\\categories.csv\")"
   ]
  },
  {
   "cell_type": "code",
   "execution_count": null,
   "metadata": {},
   "outputs": [],
   "source": []
  }
 ],
 "metadata": {
  "kernelspec": {
   "display_name": "base",
   "language": "python",
   "name": "python3"
  },
  "language_info": {
   "codemirror_mode": {
    "name": "ipython",
    "version": 3
   },
   "file_extension": ".py",
   "mimetype": "text/x-python",
   "name": "python",
   "nbconvert_exporter": "python",
   "pygments_lexer": "ipython3",
   "version": "3.11.5"
  }
 },
 "nbformat": 4,
 "nbformat_minor": 2
}
